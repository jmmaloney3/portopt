{
 "cells": [
  {
   "cell_type": "markdown",
   "metadata": {},
   "source": [
    "Notebook for developing and testing portfolio module."
   ]
  },
  {
   "cell_type": "code",
   "execution_count": 28,
   "metadata": {},
   "outputs": [],
   "source": [
    "# import functions from utils and porteval\n",
    "import sys\n",
    "import os\n",
    "\n",
    "\n",
    "from portopt.portfolio import Portfolio\n",
    "\n",
    "from portopt.config import load_config\n",
    "from portopt.utils import write_table"
   ]
  },
  {
   "cell_type": "code",
   "execution_count": null,
   "metadata": {},
   "outputs": [],
   "source": [
    "import yfinance\n",
    "print(yfinance.__version__)"
   ]
  },
  {
   "cell_type": "code",
   "execution_count": null,
   "metadata": {},
   "outputs": [],
   "source": [
    "# required file paths\n",
    "portfolio_dir = \"../data/portfolio\"\n",
    "config_file = os.path.join(portfolio_dir, \"config.yml\")\n",
    "holdings_files = os.path.join(portfolio_dir, \"holdings\")\n",
    "factor_weights_file = os.path.join(portfolio_dir, \"asset_class_weights_matrix.csv\")\n",
    "\n",
    "print(\"portfolio_dir:\", portfolio_dir)\n",
    "print(\"config_file:\", config_file)\n",
    "print(\"factor_weights_file:\", factor_weights_file)\n",
    "print(\"holdings_files:\", holdings_files)"
   ]
  },
  {
   "cell_type": "code",
   "execution_count": null,
   "metadata": {},
   "outputs": [],
   "source": [
    "# load config\n",
    "config = load_config(config_file)\n",
    "import pprint\n",
    "pprint.pprint(config)"
   ]
  },
  {
   "cell_type": "code",
   "execution_count": null,
   "metadata": {},
   "outputs": [],
   "source": [
    "# define column formats for write_table function\n",
    "column_formats = {\n",
    "    'Ticker': {'width': 14},\n",
    "    'Level_0': {'width': 14},\n",
    "    'Level_1': {'width': 14},\n",
    "    'Level_2': {'width': 14},\n",
    "    'Level_3': {'width': 14},\n",
    "    'Level_4': {'width': 14},\n",
    "    'Level_5': {'width': 14},\n",
    "    'Level_6': {'width': 14},\n",
    "    'Factor': {'width': 24},\n",
    "    'Weight': {'width': 14, 'decimal': 3, 'type':'%'},\n",
    "    'Account': {'width': 25, 'align': '<'},\n",
    "    'Name': {'width': 30, 'align': '<'},\n",
    "    'Short Name': {'width': 20, 'align': '<'},\n",
    "    'Institution': {'width': 14},\n",
    "    'Type': {'width': 14},\n",
    "    'Category': {'width': 14},\n",
    "    'Family': {'width': 14},\n",
    "    'Owner': {'width': 14},\n",
    "    'Quantity': {'width': 10, 'decimal': 3},\n",
    "    'Original Ticker': {'width': 14},\n",
    "    'Original Quantity': {'width': 10, 'decimal': 3},\n",
    "    'Original Value': {'width': 16, 'decimal': 2, 'prefix': '$'},\n",
    "    'Price': {'width': 16, 'decimal': 2, 'prefix': '$'},\n",
    "    'Total Value': {'width': 16, 'decimal': 2, 'prefix': '$'},\n",
    "    'Value': {'width': 16, 'decimal': 2, 'prefix': '$'},\n",
    "    'Allocation': {'width': 16, 'decimal': 2, 'type':'%'}\n",
    "}\n",
    "column_formats"
   ]
  },
  {
   "cell_type": "code",
   "execution_count": null,
   "metadata": {},
   "outputs": [],
   "source": [
    "# create portfolio object\n",
    "portfolio = Portfolio(config, factor_weights_file, holdings_files)\n",
    "portfolio"
   ]
  },
  {
   "cell_type": "code",
   "execution_count": null,
   "metadata": {},
   "outputs": [],
   "source": [
    "holdings = portfolio.getHoldings(forceRefresh=True)\n",
    "write_table(holdings, columns=column_formats)"
   ]
  },
  {
   "cell_type": "code",
   "execution_count": null,
   "metadata": {},
   "outputs": [],
   "source": [
    "tickers = portfolio.getTickers(\n",
    "    forceRefresh=True,\n",
    "    verbose=True\n",
    ")\n",
    "write_table(tickers, columns=column_formats)"
   ]
  },
  {
   "cell_type": "code",
   "execution_count": null,
   "metadata": {},
   "outputs": [],
   "source": [
    "accounts = portfolio.getAccounts()\n",
    "write_table(accounts, columns=column_formats)"
   ]
  },
  {
   "cell_type": "code",
   "execution_count": null,
   "metadata": {},
   "outputs": [],
   "source": [
    "account_tickers = portfolio.getAccountTickers()\n",
    "write_table(account_tickers, columns=column_formats)"
   ]
  },
  {
   "cell_type": "code",
   "execution_count": null,
   "metadata": {},
   "outputs": [],
   "source": [
    "prices = portfolio.getPrices(\n",
    "    forceRefresh=True,\n",
    "    verbose=True\n",
    ")\n",
    "write_table(prices, columns=column_formats)"
   ]
  },
  {
   "cell_type": "code",
   "execution_count": null,
   "metadata": {},
   "outputs": [],
   "source": [
    "factors = portfolio.getFactors()\n",
    "write_table(factors, columns=column_formats)"
   ]
  },
  {
   "cell_type": "code",
   "execution_count": null,
   "metadata": {},
   "outputs": [],
   "source": [
    "factor_weights = portfolio.getFactorWeights(forceRefresh=True)\n",
    "write_table(factor_weights, columns=column_formats)"
   ]
  },
  {
   "cell_type": "code",
   "execution_count": null,
   "metadata": {},
   "outputs": [],
   "source": [
    "metrics = portfolio.getMetrics()\n",
    "write_table(metrics, columns=column_formats, title=\"Total Portfolio\")"
   ]
  },
  {
   "cell_type": "code",
   "execution_count": null,
   "metadata": {},
   "outputs": [],
   "source": [
    "# Calculate allocation to Level_0 and Level_1 factors\n",
    "\n",
    "# parameters\n",
    "verbose = False\n",
    "filters = None\n",
    "dims = ['Level_0', 'Level_1'] #, 'Level_2']\n",
    "metrics = None #['Allocation']\n",
    "\n",
    "# calculate metrics\n",
    "metrics = portfolio.getMetrics(*dims,\n",
    "                               metrics=metrics,\n",
    "                               filters=filters,\n",
    "                               verbose=verbose)\n",
    "write_table(metrics, columns=column_formats, title=\"Factor Allocations\")\n",
    "\n",
    "# write metrics to csv\n",
    "metrics.to_csv('../exports/factor_allocations.csv')\n",
    "\n",
    "# calculate totals\n",
    "if 'Value' in metrics.columns:\n",
    "    total_value = metrics['Value'].sum()\n",
    "    print(f\"Total portfolio value: ${total_value:,.2f}\")\n",
    "if 'Allocation' in metrics.columns:\n",
    "    total_alloc = metrics['Allocation'].sum()\n",
    "    print(f\"Total allocated value: {total_alloc:.2%}\")"
   ]
  },
  {
   "cell_type": "code",
   "execution_count": null,
   "metadata": {},
   "outputs": [],
   "source": [
    "# show equity factor allocations only\n",
    "equity_allocations = portfolio.getMetrics('Level_0', 'Level_1',\n",
    "                                     filters={'Level_0': ['Equity']},\n",
    "                                     metrics=['Total Value', 'Allocation'],\n",
    "                                     portfolio_allocation=True)\n",
    "write_table(equity_allocations, columns=column_formats)"
   ]
  },
  {
   "cell_type": "code",
   "execution_count": null,
   "metadata": {},
   "outputs": [],
   "source": [
    "# show cash factor allocations by account\n",
    "# parameters\n",
    "verbose = False\n",
    "filters = {'Level_0': ['Fixed Income'], 'Level_1': ['Cash']}\n",
    "dims = ['Account']\n",
    "metrics = None #['Allocation']\n",
    "\n",
    "cash_allocations = portfolio.getMetrics(*dims,\n",
    "                                     filters=filters,\n",
    "                                     metrics=metrics,\n",
    "                                     portfolio_allocation=True)\n",
    "write_table(cash_allocations, columns=column_formats, title=\"Cash Allocations by Account\")\n",
    "\n",
    "# write metrics to csv\n",
    "cash_allocations.to_csv('../exports/cash_allocations_by_account.csv')\n",
    "\n",
    "# calculate totals\n",
    "if 'Value' in cash_allocations.columns:\n",
    "    total_value = cash_allocations['Value'].sum()\n",
    "    print(f\"Total portfolio value: ${total_value:,.2f}\")\n",
    "if 'Allocation' in cash_allocations.columns:\n",
    "    total_alloc = cash_allocations['Allocation'].sum()\n",
    "    print(f\"Total allocated value: {total_alloc:.2%}\")\n"
   ]
  },
  {
   "cell_type": "code",
   "execution_count": null,
   "metadata": {},
   "outputs": [],
   "source": [
    "# Calculate allocation to each ticker\n",
    "\n",
    "# parameters\n",
    "verbose = False\n",
    "filters = None\n",
    "dims = ['Ticker']\n",
    "\n",
    "# calculate metrics\n",
    "metrics = portfolio.getMetrics(*dims,\n",
    "                               filters=filters,\n",
    "                               verbose=verbose)\n",
    "write_table(metrics, columns=column_formats, title=\"Ticker Allocations\")\n",
    "\n",
    "# write metrics to csv\n",
    "metrics.to_csv('../exports/ticker_allocations.csv')\n",
    "\n",
    "# calculate totals\n",
    "total_value = metrics['Value'].sum()\n",
    "total_alloc = metrics['Allocation'].sum()\n",
    "print(f\"Total portfolio value: ${total_value:,.2f}\")\n",
    "print(f\"Total allocated value: {total_alloc:.2%}\")"
   ]
  },
  {
   "cell_type": "code",
   "execution_count": null,
   "metadata": {},
   "outputs": [],
   "source": [
    "# Calculate allocation to each account\n",
    "\n",
    "# parameters\n",
    "verbose = False\n",
    "filters = None\n",
    "dims = ['Account']\n",
    "\n",
    "# calculate metrics\n",
    "metrics = portfolio.getMetrics(*dims,\n",
    "                               filters=filters,\n",
    "                               verbose=verbose)\n",
    "write_table(metrics, columns=column_formats, title=\"Account Values & Allocations\")\n",
    "\n",
    "# write metrics to csv\n",
    "metrics.to_csv('../exports/account_allocations.csv')\n",
    "\n",
    "# calculate totals\n",
    "total_value = metrics['Value'].sum()\n",
    "total_alloc = metrics['Allocation'].sum()\n",
    "print(f\"Total portfolio value: ${total_value:,.2f}\")\n",
    "print(f\"Total allocated value: {total_alloc:.2%}\")"
   ]
  },
  {
   "cell_type": "code",
   "execution_count": null,
   "metadata": {},
   "outputs": [],
   "source": [
    "# Calculate allocation to each account-ticker pair\n",
    "\n",
    "# parameters\n",
    "verbose = False\n",
    "filters = None\n",
    "dims = ['Account', 'Ticker']\n",
    "\n",
    "# calculate metrics\n",
    "metrics = portfolio.getMetrics(*dims,\n",
    "                               filters=filters,\n",
    "                               verbose=verbose)\n",
    "write_table(metrics, columns=column_formats)\n",
    "\n",
    "# write metrics to csv\n",
    "metrics.to_csv('../exports/account_ticker_allocations.csv')\n",
    "\n",
    "# calculate totals\n",
    "total_value = metrics['Value'].sum()\n",
    "total_alloc = metrics['Allocation'].sum()\n",
    "print(f\"Total portfolio value: ${total_value:,.2f}\")\n",
    "print(f\"Total allocated value: {total_alloc:.2%}\")"
   ]
  },
  {
   "cell_type": "code",
   "execution_count": null,
   "metadata": {},
   "outputs": [],
   "source": [
    "# Calculate ticker allocations for a specific account\n",
    "\n",
    "account_name = '<account_name>'\n",
    "\n",
    "# parameters\n",
    "verbose = False\n",
    "filters = {'Account': [f'{account_name}']}\n",
    "dims = ['Ticker']\n",
    "\n",
    "# calculate metrics\n",
    "metrics = portfolio.getMetrics(*dims,\n",
    "                               filters=filters,\n",
    "                               verbose=verbose)\n",
    "write_table(metrics, columns=column_formats)\n",
    "\n",
    "# write metrics to csv\n",
    "metrics.to_csv(f'../exports/{account_name}_allocations.csv')\n",
    "\n",
    "# calculate totals\n",
    "total_value = metrics['Value'].sum()\n",
    "total_alloc = metrics['Allocation'].sum()\n",
    "print(f\"Total portfolio value: ${total_value:,.2f}\")\n",
    "print(f\"Total allocated value: {total_alloc:.2%}\")"
   ]
  },
  {
   "cell_type": "code",
   "execution_count": null,
   "metadata": {},
   "outputs": [],
   "source": [
    "# display the ticker allocations for each account\n",
    "\n",
    "# parameters\n",
    "verbose = False\n",
    "dims = ['Ticker']\n",
    "\n",
    "# Get unique accounts from holdings\n",
    "holdings = portfolio.getHoldings(forceRefresh=True)\n",
    "accounts = holdings.index.get_level_values('Account').unique()\n",
    "\n",
    "# Iterate over accounts\n",
    "for account in accounts:\n",
    "    # Get metrics for this account\n",
    "    metrics = portfolio.getMetrics(\n",
    "        *dims,\n",
    "        filters={'Account': [account]},\n",
    "        verbose=verbose\n",
    "    )\n",
    "    \n",
    "    # Display results\n",
    "    write_table(metrics, columns=column_formats, title=f\"{account} Allocations\")\n",
    "    \n",
    "    # Export to CSV\n",
    "    # Clean account name for filename (replace spaces and special chars with underscores)\n",
    "    safe_account_name = account.replace(' ', '_').replace('(', '').replace(')', '')\n",
    "    filename = f\"../exports/{safe_account_name}_allocations.csv\"\n",
    "    metrics.to_csv(filename)\n",
    "    \n",
    "    # Print totals\n",
    "    total_value = metrics['Value'].sum()\n",
    "    total_alloc = metrics['Allocation'].sum()\n",
    "    print(f\"Total account value: ${total_value:,.2f}\")\n",
    "    print(f\"Total allocated value: {total_alloc:.2%}\")\n",
    "    print(f\"Results written to: {filename}\\n\")"
   ]
  },
  {
   "cell_type": "code",
   "execution_count": null,
   "metadata": {},
   "outputs": [],
   "source": [
    "# parameters\n",
    "verbose = False\n",
    "aqr_funds = ['AIMOX', 'AQMNX', 'QDSNX', 'QIORX', 'QLENX', 'QMNNX', 'QNZNX']\n",
    "filters = {'Ticker': aqr_funds}\n",
    "dims = ['Ticker']\n",
    "metrics = ['Name', 'Total Value', 'Allocation']\n",
    "\n",
    "ticker_metrics = portfolio.getMetrics(*dims,\n",
    "                                     filters=filters,\n",
    "                                     metrics=metrics,\n",
    "                                     portfolio_allocation=True,\n",
    "                                     verbose=verbose)\n",
    "write_table(ticker_metrics, columns=column_formats, title=\"AQR Funds\")\n",
    "\n",
    "# write metrics to csv\n",
    "filename = f'../exports/aqr_funds.csv'\n",
    "ticker_metrics.to_csv(filename)\n",
    "\n",
    "# calculate totals\n",
    "total_value = ticker_metrics['Value'].sum()\n",
    "total_alloc = ticker_metrics['Allocation'].sum()\n",
    "print(f\"Total portfolio value: ${total_value:,.2f}\")\n",
    "print(f\"Total allocated value: {total_alloc:.2%}\")\n",
    "\n",
    "print(f\"Results written to: {filename}\")"
   ]
  },
  {
   "cell_type": "code",
   "execution_count": null,
   "metadata": {},
   "outputs": [],
   "source": [
    "# parameters\n",
    "verbose = False\n",
    "filters = {'Level_1': ['Long/Short']}\n",
    "dims = ['Account', 'Ticker']\n",
    "metrics = ['Allocation']\n",
    "\n",
    "ticker_metrics = portfolio.getMetrics(*dims,\n",
    "                                     filters=filters,\n",
    "                                     metrics=metrics,\n",
    "                                     verbose=verbose)\n",
    "write_table(ticker_metrics, columns=column_formats, title=\"Long/Short\")\n",
    "\n",
    "# write metrics to csv\n",
    "filename = f'../exports/long_short_funds.csv'\n",
    "ticker_metrics.to_csv(filename)\n",
    "\n",
    "# calculate totals\n",
    "total_value = ticker_metrics['Value'].sum()\n",
    "total_alloc = ticker_metrics['Allocation'].sum()\n",
    "print(f\"Total portfolio value: ${total_value:,.2f}\")\n",
    "print(f\"Total allocated value: {total_alloc:.2%}\")\n",
    "\n",
    "print(f\"Results written to: {filename}\")"
   ]
  },
  {
   "cell_type": "code",
   "execution_count": null,
   "metadata": {},
   "outputs": [],
   "source": [
    "# parameters\n",
    "verbose = False\n",
    "filters = {'Level_0': ['Fixed Income'],\n",
    "           'Level_1': ['Bonds']}\n",
    "dims = ['Account']\n",
    "metrics = None #['Allocation']\n",
    "\n",
    "bond_metrics = portfolio.getMetrics(*dims,\n",
    "                                     filters=filters,\n",
    "                                     metrics=metrics,\n",
    "                                     portfolio_allocation=True,\n",
    "                                     verbose=verbose)\n",
    "write_table(bond_metrics, columns=column_formats, title=\"Bonds\")\n",
    "\n",
    "# write metrics to csv\n",
    "filename = f'../exports/bond_allocations.csv'\n",
    "bond_metrics.to_csv(filename)\n",
    "\n",
    "# calculate totals\n",
    "total_value = bond_metrics['Value'].sum()\n",
    "total_alloc = bond_metrics['Allocation'].sum()\n",
    "print(f\"Total portfolio value: ${total_value:,.2f}\")\n",
    "print(f\"Total allocated value: {total_alloc:.2%}\")\n",
    "\n",
    "print(f\"Results written to: {filename}\")"
   ]
  },
  {
   "cell_type": "code",
   "execution_count": null,
   "metadata": {},
   "outputs": [],
   "source": [
    "# parameters\n",
    "verbose = False\n",
    "filters = {'Level_0': ['Equity'], 'Level_1': ['US']}\n",
    "dims = ['Account']\n",
    "metrics = None #['Allocation']\n",
    "\n",
    "equity_metrics = portfolio.getMetrics(*dims,\n",
    "                                     filters=filters,\n",
    "                                     metrics=metrics,\n",
    "                                     portfolio_allocation=True,\n",
    "                                     verbose=verbose)\n",
    "write_table(equity_metrics, columns=column_formats, title=\"US Equity\")\n",
    "\n",
    "# write metrics to csv\n",
    "filename = f'../exports/equity_allocations.csv'\n",
    "equity_metrics.to_csv(filename)\n",
    "\n",
    "# calculate totals\n",
    "total_value = equity_metrics['Value'].sum()\n",
    "total_alloc = equity_metrics['Allocation'].sum()\n",
    "print(f\"Total portfolio value: ${total_value:,.2f}\")\n",
    "print(f\"Total allocated value: {total_alloc:.2%}\")\n",
    "\n",
    "print(f\"Results written to: {filename}\")"
   ]
  },
  {
   "cell_type": "code",
   "execution_count": null,
   "metadata": {},
   "outputs": [],
   "source": [
    "# parameters\n",
    "verbose = False\n",
    "filters = {'Level_0': ['Fixed Income'], 'Level_1': ['Cash']}\n",
    "dims = ['Account']\n",
    "metrics = None #['Allocation']\n",
    "\n",
    "cash_metrics = portfolio.getMetrics(*dims,\n",
    "                                    filters=filters,\n",
    "                                    metrics=metrics,\n",
    "                                    portfolio_allocation=True,\n",
    "                                    verbose=verbose)\n",
    "write_table(cash_metrics, columns=column_formats, title=\"Cash Allocations\")\n",
    "\n",
    "# write metrics to csv\n",
    "filename = f'../exports/cash_allocations.csv'\n",
    "cash_metrics.to_csv(filename)\n",
    "\n",
    "# calculate totals\n",
    "total_value = cash_metrics['Value'].sum()\n",
    "total_alloc = cash_metrics['Allocation'].sum()\n",
    "print(f\"Total portfolio value: ${total_value:,.2f}\")\n",
    "print(f\"Total allocated value: {total_alloc:.2%}\")\n",
    "\n",
    "print(f\"Results written to: {filename}\")"
   ]
  }
 ],
 "metadata": {
  "kernelspec": {
   "display_name": "Portfolio Optimization",
   "language": "python",
   "name": "portopt"
  },
  "language_info": {
   "codemirror_mode": {
    "name": "ipython",
    "version": 3
   },
   "file_extension": ".py",
   "mimetype": "text/x-python",
   "name": "python",
   "nbconvert_exporter": "python",
   "pygments_lexer": "ipython3",
   "version": "3.12.7"
  }
 },
 "nbformat": 4,
 "nbformat_minor": 2
}
