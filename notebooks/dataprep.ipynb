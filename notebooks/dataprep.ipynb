{
 "cells": [
  {
   "cell_type": "markdown",
   "metadata": {},
   "source": [
    "The following cells preprocess the data to prepare it for risk model evaluation.  The following\n",
    "steps are taken:\n",
    "1. Check for stationarity using ADF and KPSS tests\n",
    "2. If the data is non-stationary, plot the data to see if it has a trend, seasonal component, or cyclic component\n",
    "3. If the data has a trend, remove the trend\n",
    "4. If the data has a seasonal component, remove the seasonal component\n",
    "5. If the data has a cyclic component, remove the cyclic component\n",
    "6. After applying transformations, check to see if the data is stationary\n",
    "7. If the transformations were successful, standardize the data\n",
    "8. Evaluate the risk models"
   ]
  },
  {
   "cell_type": "code",
   "execution_count": null,
   "metadata": {},
   "outputs": [],
   "source": [
    "# load stock prices\n",
    "import yfinance as yf\n",
    "\n",
    "tickers = [\"MSFT\", \"AMZN\", \"KO\", \"MA\", \"COST\", \n",
    "           \"LUV\", \"XOM\", \"PFE\", \"JPM\", \"UNH\", \n",
    "           \"ACN\", \"DIS\", \"GILD\", \"F\", \"TSLA\"] \n",
    "df = yf.download(tickers, period=\"max\",auto_adjust=False)['Adj Close'].loc[\"1990\":]\n",
    "\n",
    "# drop any rows with NaN values\n",
    "df = df.dropna(axis=0, how='any')\n",
    "\n",
    "df"
   ]
  },
  {
   "cell_type": "code",
   "execution_count": null,
   "metadata": {},
   "outputs": [],
   "source": [
    "# import functions from utils\n",
    "import sys\n",
    "import os\n",
    "\n",
    "# Get absolute path to src directory\n",
    "src_path = os.path.abspath(os.path.join(os.path.dirname('__file__'), '..', 'src'))\n",
    "\n",
    "# Only add to path if not already there\n",
    "if src_path not in sys.path:\n",
    "    sys.path.append(src_path)\n",
    "\n",
    "from utils import test_stationarity\n",
    "\n",
    "# Print the path to make sure src is included\n",
    "print(sys.path)\n",
    "\n",
    "# Print available functions in utils\n",
    "print(test_stationarity.__doc__)"
   ]
  },
  {
   "cell_type": "code",
   "execution_count": null,
   "metadata": {},
   "outputs": [],
   "source": [
    "# test stationarity of the raw data\n",
    "results = test_stationarity(df)\n",
    "\n",
    "results"
   ]
  },
  {
   "cell_type": "code",
   "execution_count": null,
   "metadata": {},
   "outputs": [],
   "source": [
    "# start with differencing the data and see if that makes the data stationary\n",
    "df_diff = df.diff().dropna()\n",
    "\n",
    "results = test_stationarity(df_diff)\n",
    "print(results.to_string(float_format=lambda x: '%.6f' % x if isinstance(x, float) else x))"
   ]
  },
  {
   "cell_type": "code",
   "execution_count": null,
   "metadata": {},
   "outputs": [],
   "source": [
    "import numpy as np\n",
    "\n",
    "# next try taking the log of the data and see if that makes the data stationary\n",
    "df_log = np.log(df)\n",
    "\n",
    "results = test_stationarity(df_log)\n",
    "print(results.to_string(float_format=lambda x: '%.6f' % x if isinstance(x, float) else x))"
   ]
  },
  {
   "cell_type": "code",
   "execution_count": null,
   "metadata": {},
   "outputs": [],
   "source": [
    "# Apply log returns transformation to all columns\n",
    "df_log_returns = np.log(df).diff().dropna()\n",
    "\n",
    "# Test stationarity for all tickers\n",
    "results = test_stationarity(df_log_returns)\n",
    "print(results.to_string(float_format=lambda x: '%.6f' % x if isinstance(x, float) else x))"
   ]
  }
 ],
 "metadata": {
  "kernelspec": {
   "display_name": "Portfolio Optimization",
   "language": "python",
   "name": "portopt"
  },
  "language_info": {
   "codemirror_mode": {
    "name": "ipython",
    "version": 3
   },
   "file_extension": ".py",
   "mimetype": "text/x-python",
   "name": "python",
   "nbconvert_exporter": "python",
   "pygments_lexer": "ipython3",
   "version": "3.12.7"
  }
 },
 "nbformat": 4,
 "nbformat_minor": 2
}
