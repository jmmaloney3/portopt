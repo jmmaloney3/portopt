{
 "cells": [
  {
   "cell_type": "markdown",
   "id": "9d950658-74d6-43d4-8229-1cd99070d7f8",
   "metadata": {},
   "source": [
    "This notebook is was used to figure out how to solve the portfolio optimization problem using a LP/MIP/QP solver. This notebook contains a prototype that attempts to use [CVXPY](https://www.cvxpy.org) to solve the problem.\n",
    "\n",
    "The problem requires support for:\n",
    "* Quadratic programming (QP) - supports minimizing a quadratic objective function (i.e., sum of the squared difference)\n",
    "* Mixed-integer programming - supports integer variables (i.e., number of funds)\n",
    "* Linear constraints - support constraining overall allocation to 100% and the allocation to any specific asset class or fund to be less than 100%\n",
    "\n",
    "Because of these requirements, the solver needs to support mixed-integer quadratic programming (MIQP).\n",
    "\n",
    "The CVXPY library supports MIQP when the SCIP solver is used."
   ]
  },
  {
   "cell_type": "code",
   "execution_count": null,
   "id": "71905a79-176a-43fe-9e7e-8a735d5540e9",
   "metadata": {},
   "outputs": [],
   "source": [
    "# import required packaages\n",
    "import pandas as pd\n",
    "import cvxpy as cp\n",
    "import numpy as np"
   ]
  },
  {
   "cell_type": "code",
   "execution_count": null,
   "id": "be1ff615-0959-463d-894e-602be8b3dea5",
   "metadata": {},
   "outputs": [],
   "source": [
    "# load the data\n",
    "from collections import defaultdict\n",
    "default_types = defaultdict(lambda: float, Ticker=\"str\")\n",
    "file_path = \"../data/exposure_matrix.csv\"\n",
    "data = pd.read_csv(file_path, dtype=default_types)\n",
    "data"
   ]
  },
  {
   "cell_type": "code",
   "execution_count": null,
   "id": "17a6edc2-4274-4704-8475-466462507d86",
   "metadata": {},
   "outputs": [],
   "source": [
    "# Extract fund_matrix (all rows except the footer and first column)\n",
    "fund_matrix = data.iloc[:-1, 1:].values\n",
    "fund_matrix"
   ]
  },
  {
   "cell_type": "code",
   "execution_count": null,
   "id": "dbff3777-243c-4dc7-a9dd-49707c4473e7",
   "metadata": {},
   "outputs": [],
   "source": [
    "# Extract desired_allocations (footer row, excluding the first column)\n",
    "desired_allocations = data.iloc[-1, 1:].values\n",
    "desired_allocations"
   ]
  },
  {
   "cell_type": "code",
   "execution_count": null,
   "id": "fdc622ff-a7f9-409d-bee4-236d052ecaaf",
   "metadata": {},
   "outputs": [],
   "source": [
    "# Extract fund tickers (first column, excluding the footer row)\n",
    "fund_tickers = data.iloc[:-1, 0].values\n",
    "fund_tickers"
   ]
  },
  {
   "cell_type": "code",
   "execution_count": null,
   "id": "f583d34a-568b-4c27-8f30-1a8c2e8cf187",
   "metadata": {},
   "outputs": [],
   "source": [
    "# Extract asset classes (header row, excluding the first column)\n",
    "asset_classes = data.columns[1:]\n",
    "asset_classes"
   ]
  },
  {
   "cell_type": "code",
   "execution_count": null,
   "id": "c59a55cb-5e24-4839-996b-955ede44130a",
   "metadata": {},
   "outputs": [],
   "source": [
    "# Define the optimization problem\n",
    "num_funds = fund_matrix.shape[0]\n",
    "x = cp.Variable(num_funds)  # Allocation to each fund\n",
    "z = cp.Variable(num_funds, boolean=True)  # Binary selection variables\n",
    "\n",
    "# Resulting portfolio allocation\n",
    "portfolio_allocation = fund_matrix.T @ x\n",
    "\n",
    "sparsity_weight = 0.01\n",
    "max_funds = 7\n",
    "\n",
    "# Objective: Minimize the squared difference between actual and desired allocations\n",
    "objective = cp.Minimize(\n",
    "    cp.sum_squares(portfolio_allocation - desired_allocations)\n",
    "    + sparsity_weight * cp.sum(z) # Penalize the number of funds\n",
    ")\n",
    "\n",
    "# Constraints\n",
    "constraints = [\n",
    "    cp.sum(x) == 1,  # Allocations must sum to 100%\n",
    "    x >= 0,          # No negative allocation\n",
    "    x <= 1,          # Maximum allocation per fund\n",
    "    x <= z,          # Link x and z (if z=0, x=0)\n",
    "    cp.sum(z) <= max_funds,  # Number of funds used is <= max_funds\n",
    "]\n",
    "\n",
    "# Solve the problem\n",
    "problem = cp.Problem(objective, constraints)\n",
    "problem.solve()\n",
    "print(f\"Solver status: {problem.status}\")"
   ]
  },
  {
   "cell_type": "code",
   "execution_count": null,
   "id": "721139af-98c5-45fb-937e-e15098bc9df7",
   "metadata": {},
   "outputs": [],
   "source": [
    "# Output results\n",
    "print(\"Optimal Fund Allocations:\")\n",
    "print(f\"{\"Ticker\":10}{\"Allocation\":>10}\")\n",
    "print(f\"{\"========\":<10}{\"==========\":>10}\")\n",
    "for ticker, allocation in zip(fund_tickers, x.value):\n",
    "    print(f\"{ticker:<10}{allocation:10.2%}\")\n",
    "\n",
    "print(type(portfolio_allocation.value))\n",
    "\n",
    "print(\"\\nResulting Asset Class Allocations:\")\n",
    "print(f\"{\"Asset Class\":20}{\"Actual\":>10}{\"Target\":>10}{\"Diff\":>10}\")\n",
    "for asset_class, actual, target in zip(asset_classes, portfolio_allocation.value, desired_allocations):\n",
    "    diff = actual - target\n",
    "    print(f\"{asset_class:20}{actual:10.2%}{target:10.2%}{diff:10.2%}\")\n",
    "\n",
    "print(\"\\nObjective Value (total deviation):\", problem.value)"
   ]
  }
 ],
 "metadata": {
  "kernelspec": {
   "display_name": "Portfolio Optimization",
   "language": "python",
   "name": "portopt"
  },
  "language_info": {
   "codemirror_mode": {
    "name": "ipython",
    "version": 3
   },
   "file_extension": ".py",
   "mimetype": "text/x-python",
   "name": "python",
   "nbconvert_exporter": "python",
   "pygments_lexer": "ipython3",
   "version": "3.12.7"
  }
 },
 "nbformat": 4,
 "nbformat_minor": 5
}
