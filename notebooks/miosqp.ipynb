{
 "cells": [
  {
   "cell_type": "markdown",
   "id": "56f4faaa-7e2f-4037-9217-8b912a8cebae",
   "metadata": {},
   "source": [
    "This notebook is was used to figure out how to solve the portfolio optimization problem using a LP/MIP/QP solver.  This notebook contains a prototype that attempts to use [MIOSQP](https://github.com/osqp/miosqp) to solve the problem.\n",
    "\n",
    "The problem requires support for:\n",
    "\n",
    "* Quadratic programming (QP) - supports minimizing a quadratic objective function (i.e., sum of the squared difference)\n",
    "* Mixed-integer programming - supports integer variables (i.e., number of funds)\n",
    "* Linear constraints - support constraining overall allocation to 100% and the allocation to any specific asset class or fund to be less than 100%\n",
    "Because of these requirements, the solver needs to support mixed-integer quadratic programming (MIQP).\n",
    "\n",
    "I was unable to get MIOSQP to work.  Documentation is nearly non-existent and the code does not seem to be well maintained.  The example code uses the non-existent Scipy method (`randn`) and doesn't appear to work.  There seems to be incompatibilities between the settings reqiuired by MIOSQP and setting allowed by OSQP - causing a circular loop of errors (one saying a particular setting is required and the other saying that setting is not allowed). :-("
   ]
  },
  {
   "cell_type": "code",
   "execution_count": null,
   "id": "6d35fa47-3e9f-4c1a-80df-421797eb3746",
   "metadata": {},
   "outputs": [],
   "source": [
    "# --\n",
    "# Load data from csv\n",
    "# --\n",
    "import pandas as pd"
   ]
  },
  {
   "cell_type": "code",
   "execution_count": null,
   "id": "3d01ffb9-6184-4d1e-8bcf-21ee71d02ec4",
   "metadata": {},
   "outputs": [],
   "source": [
    "file_path = \"../data/exposure_matrix.csv\"\n",
    "\n",
    "# Read only the header row\n",
    "headers = pd.read_csv(file_path, nrows=0).columns.tolist()\n",
    "\n",
    "# Define the default dtype for all columns except 'Ticker'\n",
    "dtype_dict = {col: float for col in headers if col != 'Ticker'}\n",
    "\n",
    "# Read the full file with the dynamically created dtype and converter\n",
    "data = pd.read_csv(\n",
    "    file_path,\n",
    "    dtype=dtype_dict,  # Set all columns to float except Ticker\n",
    "    converters={'Ticker': lambda x: x.strip()}  # Strip whitespace from Ticker column\n",
    ")\n",
    "data.set_index('Ticker', inplace=True)\n",
    "data.loc['BNDX']\n",
    "data.loc['BNDX', 'Intl Bonds']\n",
    "data.loc[:, 'Intl Bonds']\n",
    "data"
   ]
  },
  {
   "cell_type": "code",
   "execution_count": null,
   "id": "7b7b856f-f933-4b3b-aae9-9a887c7869f9",
   "metadata": {},
   "outputs": [],
   "source": [
    "# extract_data(data):\n",
    "\n",
    "# Extract fund_matrix (all rows except the footer)\n",
    "fund_matrix = data.iloc[:-1]\n",
    "fund_matrix.loc['BNDX']\n",
    "fund_matrix.loc[:,'Cash']\n",
    "fund_matrix.loc['BNDX','Cash']\n",
    "fund_matrix"
   ]
  },
  {
   "cell_type": "code",
   "execution_count": null,
   "id": "ffe87cd7-8a38-4eae-84b8-c315861c2f14",
   "metadata": {},
   "outputs": [],
   "source": [
    "# Extract asset_class_targets (footer row)\n",
    "asset_class_targets = data.loc['Targets']\n",
    "asset_class_targets.loc['Emerging']\n",
    "asset_class_targets"
   ]
  },
  {
   "cell_type": "code",
   "execution_count": null,
   "id": "0f381c8b-6786-4b7e-8c88-fea2f70a6979",
   "metadata": {},
   "outputs": [],
   "source": [
    "# Extract fund tickers (first column)\n",
    "funds = fund_matrix.index\n",
    "funds"
   ]
  },
  {
   "cell_type": "code",
   "execution_count": null,
   "id": "69520008-8424-426e-b552-d032e45a8015",
   "metadata": {},
   "outputs": [],
   "source": [
    "# Extract asset classes (header row, excluding the first column)\n",
    "asset_classes = data.columns\n",
    "asset_classes"
   ]
  },
  {
   "cell_type": "markdown",
   "id": "a6a4fff4-d00f-4d6f-99cb-3cf365c753ea",
   "metadata": {},
   "source": [
    "**Problem**:\n",
    "\n",
    "**Minimize the following**:\n",
    "* sum of the squared difference between final portfolio asset class allocations and target asset class allocations\n",
    "* the number of funds included in the portfolio (# of funds with non-zero allocations)\n",
    "\n",
    "**Subject to**:\n",
    "* sum of the final portfolio asset class allocations equals 1\n",
    "* sum of the final portfolio fund allocations equals 1# - sum of the portfolio asset allocations equals 1\n",
    "* portfolio allocation for each asset class is less than 1\n",
    "* portfolio allocation for each fund is less than 1\n",
    "* number of funds included in the portfolio is less than max_funds"
   ]
  },
  {
   "cell_type": "code",
   "execution_count": 1,
   "id": "dd88cf15-e349-4c6e-b8ae-02a4425bac5d",
   "metadata": {},
   "outputs": [
    {
     "name": "stdout",
     "output_type": "stream",
     "text": [
      "<Compressed Sparse Column sparse matrix of dtype 'float64'\n",
      "\twith 11 stored elements and shape (3, 4)>\n",
      "  Coords\tValues\n",
      "  (0, 0)\t0.25\n",
      "  (1, 0)\t0.15\n",
      "  (2, 0)\t0.6\n",
      "  (0, 1)\t0.3\n",
      "  (1, 1)\t0.2\n",
      "  (0, 2)\t0.4\n",
      "  (1, 2)\t0.5\n",
      "  (2, 2)\t0.3\n",
      "  (0, 3)\t0.05\n",
      "  (1, 3)\t0.15\n",
      "  (2, 3)\t0.1\n",
      "<Compressed Sparse Column sparse matrix of dtype 'float64'\n",
      "\twith 4 stored elements and shape (1, 4)>\n",
      "  Coords\tValues\n",
      "  (0, 0)\t0.1\n",
      "  (0, 1)\t0.2\n",
      "  (0, 2)\t0.3\n",
      "  (0, 3)\t0.4\n",
      "<Compressed Sparse Column sparse matrix of dtype 'float64'\n",
      "\twith 3 stored elements and shape (1, 3)>\n",
      "  Coords\tValues\n",
      "  (0, 0)\t0.2\n",
      "  (0, 1)\t0.3\n",
      "  (0, 2)\t0.5\n"
     ]
    }
   ],
   "source": [
    "#import numpy as np\n",
    "from scipy import sparse\n",
    "\n",
    "# simple example\n",
    "# 3 funds, 4 asset classes\n",
    "# rows -> funds, columns -> asset_classes\n",
    "# rows must sum to 100%\n",
    "\n",
    "exposure_matrix = sparse.csc_matrix([[0.25, 0.3, 0.4, 0.05],\n",
    "                                     [0.15, 0.2, 0.5, 0.15],\n",
    "                                     [0.6,  0.0, 0.3, 0.1]])\n",
    "print(exposure_matrix)\n",
    "\n",
    "# desired portfolio asset class allocation\n",
    "target_exposures = sparse.csc_matrix([0.1, 0.2, 0.3, 0.4])\n",
    "print(target_exposures)\n",
    "\n",
    "# actual fund allocations\n",
    "fund_allocations = sparse.csc_matrix([0.2, 0.3, 0.5])\n",
    "print(fund_allocations)\n",
    "\n",
    "# actual portfolio asset class allocations\n",
    "\n"
   ]
  },
  {
   "cell_type": "code",
   "execution_count": null,
   "id": "f8579d69-2e7e-405f-91c8-38b2980b3c58",
   "metadata": {},
   "outputs": [],
   "source": [
    "# brute force calculation of sum of the difference squared\n",
    "# iterate over asset classes\n",
    "num_funds = exposure_matrix.shape[0]\n",
    "num_classes = exposure_matrix.shape[1]\n",
    "\n",
    "portfolio_exposures = np.zeros(num_classes)\n",
    "diff_squared = np.zeros(num_classes)\n",
    "\n",
    "# convert sparse arrays to dense arrays\n",
    "e_matrix = exposure_matrix.toarray()\n",
    "f_allocations = fund_allocations.toarray().flatten()\n",
    "t_exposures = target_exposures.toarray().flatten()\n",
    "\n",
    "print(\"e_matrix:\")\n",
    "print(e_matrix)\n",
    "print(\"f_allocations:\")\n",
    "print(f_allocations)\n",
    "\n",
    "for i in range(num_classes):\n",
    "    for j in range(num_funds):\n",
    "        portfolio_exposures[i] = portfolio_exposures[i] + (e_matrix[j, i] * f_allocations[j])\n",
    "    diff_squared[i] = (portfolio_exposures[i] - t_exposures[i]) ** 2\n",
    "\n",
    "print(\"portfolio_exposures:\")\n",
    "print(portfolio_exposures)\n",
    "\n",
    "print(\"fund_allocations @ exposure_matrix\")\n",
    "pexposures = fund_allocations @ exposure_matrix\n",
    "print(pexposures)\n",
    "\n",
    "print(\"sum elements of portfolio exposures: (should equal 1)\")\n",
    "print(np.sum(pexposures))\n",
    "\n",
    "print(\"diff_squared:\")\n",
    "print(diff_squared)\n",
    "\n",
    "print(\"sum of diff squared:\")\n",
    "print(np.sum(diff_squared))\n"
   ]
  },
  {
   "cell_type": "code",
   "execution_count": 41,
   "id": "beabe764-1d65-4fbd-a7b2-a4f0d2f27001",
   "metadata": {},
   "outputs": [
    {
     "name": "stdout",
     "output_type": "stream",
     "text": [
      "[[0.1]\n",
      " [0.2]\n",
      " [0.3]\n",
      " [0.4]]\n",
      "[[0.25 0.3  0.4  0.05]\n",
      " [0.15 0.2  0.5  0.15]\n",
      " [0.6  0.   0.3  0.1 ]]\n",
      "[[0.225]\n",
      " [0.265]\n",
      " [0.19 ]]\n",
      "[[0.225 0.265 0.19 ]]\n"
     ]
    }
   ],
   "source": [
    "print(target_exposures.T.toarray())\n",
    "print(exposure_matrix.toarray())\n",
    "#target_exposures.T.toarray() @ exposure_matrix.toarray()\n",
    "print(exposure_matrix.toarray() @ target_exposures.T.toarray())\n",
    "print(target_exposures.toarray() @ exposure_matrix.T.toarray())"
   ]
  },
  {
   "cell_type": "code",
   "execution_count": 44,
   "id": "f1b9b40f-3ff4-497d-a345-7647145c0a25",
   "metadata": {},
   "outputs": [],
   "source": [
    "import numpy as np\n",
    "import miosqp\n",
    "def setup_and_solve(exposure_matrix, target_allocations):\n",
    "    \"\"\"\n",
    "    Set up and solve the portfolio optimization problem using MIOSQP.\n",
    "    - Minimize the sum of squared differences between fund allocations and target allocations.\n",
    "    \"\"\"\n",
    "    n_funds = exposure_matrix.shape[0]\n",
    "    #exposure_matrix = fund_matrix.values.T  # Transpose to match dimensions\n",
    "\n",
    "    # Objective: sum of the squared difference between portfolio asset class\n",
    "    # allocation and the target asset class allocation\n",
    "    #\n",
    "    # Let\n",
    "    #   n = number of funds\n",
    "    #   m = number of asset classes\n",
    "    #   E = n x m matrix of asset class allocations for each fund (exposure_matrix)\n",
    "    #   b = length m vector of target asset class allocations (target_allocations)\n",
    "    #   x = length n vector of fund allocations (variables to be optimized)\n",
    "    #\n",
    "    # Given these definitions:\n",
    "    #   Ex = vector of length m with portfolio's asset class allocation (given values for x)\n",
    "    #   (Ex - b)^2 = the objective function\n",
    "    #\n",
    "    # The objective function becomes:\n",
    "    #   (Ex - b)^2 = (Ex - b)^T(Ex - b) = x^T(E^TE)x - 2(b^TE)x + b^Tb\n",
    "    #\n",
    "    # The b^Tb term is a constant factort that does not impact the optimal values.\n",
    "    #\n",
    "    # The solver will optimize the equation: (1/2)x^TQx + c^Tx\n",
    "    #\n",
    "    # Let:\n",
    "    #   Q = 2(E^TE) - the leading \"2\" cancels the (1/2) in the optimzation equation\n",
    "    #   c = -2(b^TE)\n",
    "    #\n",
    "    Q = 2 * (exposure_matrix.T @ exposure_matrix)\n",
    "    print(target_allocations)\n",
    "    print(exposure_matrix)\n",
    "    # c = -2 * (target_allocations.toarray() @ exposure_matrix.T.toarray())\n",
    "    c = -2 * (exposure_matrix.toarray() @ target_allocations.T.toarray())\n",
    "    print(c.shape)\n",
    "    print(f'c: {c}')\n",
    "    print(f'length of c: {len(c)}')\n",
    "    print(f'n_funds: {n_funds}')\n",
    "\n",
    "    # Constraints: constraints are defined using the following equation:\n",
    "    #\n",
    "    #   l <= Ax <= u\n",
    "    #\n",
    "    # To constrain the fund allocations to sum to 1:\n",
    "    #\n",
    "    # (1) Define A to be a length n vector of 1's.  Then:\n",
    "    #\n",
    "    #   Ax = A_1*x_1 + A_2*x_2 + ... + A_n*x_n = sum of fund allocations\n",
    "    #\n",
    "    # (2) Set l and u both equal to 1\n",
    "    #\n",
    "    # Then:\n",
    "    #\n",
    "    #   1 <= Ax <= 1\n",
    "    A = np.ones((1, n_funds)) # length n vector of 1's\n",
    "    print(f'A: {A}')\n",
    "    l = np.array([1.0])  # lower bound\n",
    "    u = np.array([1.0])  # upper bound\n",
    "\n",
    "    # Define problem settings\n",
    "    # Taken from: https://github.com/osqp/miosqp/blob/master/examples/random_miqp/run_example.py#L98\n",
    "    miosqp_settings = {\n",
    "        # integer feasibility tolerance\n",
    "        'eps_int_feas': 1e-03,\n",
    "        # maximum number of iterations\n",
    "        'max_iter_bb': 1000,\n",
    "        # tree exploration rule\n",
    "        #   [0] depth first\n",
    "        #   [1] two-phase: depth first until first incumbent and then  best bound\n",
    "        'tree_explor_rule': 1,\n",
    "        # branching rule\n",
    "        #   [0] max fractional part\n",
    "        'branching_rule': 0,\n",
    "        'verbose': True,\n",
    "        'print_interval': 1}\n",
    "\n",
    "    osqp_settings = {\n",
    "        'eps_abs': 1e-03,\n",
    "        'eps_rel': 1e-03,\n",
    "        'eps_prim_inf': 1e-04,\n",
    "        'verbose': True}\n",
    "\n",
    "    # Initialize and solve with MIOSQP\n",
    "    miosqp_solver = miosqp.MIOSQP()\n",
    "    miosqp_solver.setup(Q, c, A, l, u,\n",
    "                        i_idx = [], i_l = [], i_u = [], \n",
    "                        settings = osqp_settings,\n",
    "                        qp_settings = miosqp_settings)  # No integer constraints for now\n",
    "    result = miosqp_solver.solve()\n",
    "\n",
    "    return result"
   ]
  },
  {
   "cell_type": "code",
   "execution_count": 45,
   "id": "95127d09-f261-4f17-b85c-9be1b366d28f",
   "metadata": {
    "scrolled": true
   },
   "outputs": [
    {
     "name": "stdout",
     "output_type": "stream",
     "text": [
      "<Compressed Sparse Column sparse matrix of dtype 'float64'\n",
      "\twith 4 stored elements and shape (1, 4)>\n",
      "  Coords\tValues\n",
      "  (0, 0)\t0.1\n",
      "  (0, 1)\t0.2\n",
      "  (0, 2)\t0.3\n",
      "  (0, 3)\t0.4\n",
      "<Compressed Sparse Column sparse matrix of dtype 'float64'\n",
      "\twith 11 stored elements and shape (3, 4)>\n",
      "  Coords\tValues\n",
      "  (0, 0)\t0.25\n",
      "  (1, 0)\t0.15\n",
      "  (2, 0)\t0.6\n",
      "  (0, 1)\t0.3\n",
      "  (1, 1)\t0.2\n",
      "  (0, 2)\t0.4\n",
      "  (1, 2)\t0.5\n",
      "  (2, 2)\t0.3\n",
      "  (0, 3)\t0.05\n",
      "  (1, 3)\t0.15\n",
      "  (2, 3)\t0.1\n",
      "(3, 1)\n",
      "c: [[-0.45]\n",
      " [-0.53]\n",
      " [-0.38]]\n",
      "length of c: 3\n",
      "n_funds: 3\n",
      "A: [[1. 1. 1.]]\n"
     ]
    },
    {
     "ename": "ValueError",
     "evalue": "Incorrect dimension of q",
     "output_type": "error",
     "traceback": [
      "\u001b[0;31m---------------------------------------------------------------------------\u001b[0m",
      "\u001b[0;31mValueError\u001b[0m                                Traceback (most recent call last)",
      "Cell \u001b[0;32mIn[45], line 1\u001b[0m\n\u001b[0;32m----> 1\u001b[0m \u001b[43msetup_and_solve\u001b[49m\u001b[43m(\u001b[49m\u001b[43mexposure_matrix\u001b[49m\u001b[43m,\u001b[49m\u001b[43m \u001b[49m\u001b[43mtarget_exposures\u001b[49m\u001b[43m)\u001b[49m\n",
      "Cell \u001b[0;32mIn[44], line 91\u001b[0m, in \u001b[0;36msetup_and_solve\u001b[0;34m(exposure_matrix, target_allocations)\u001b[0m\n\u001b[1;32m     89\u001b[0m \u001b[38;5;66;03m# Initialize and solve with MIOSQP\u001b[39;00m\n\u001b[1;32m     90\u001b[0m miosqp_solver \u001b[38;5;241m=\u001b[39m miosqp\u001b[38;5;241m.\u001b[39mMIOSQP()\n\u001b[0;32m---> 91\u001b[0m \u001b[43mmiosqp_solver\u001b[49m\u001b[38;5;241;43m.\u001b[39;49m\u001b[43msetup\u001b[49m\u001b[43m(\u001b[49m\u001b[43mQ\u001b[49m\u001b[43m,\u001b[49m\u001b[43m \u001b[49m\u001b[43mc\u001b[49m\u001b[43m,\u001b[49m\u001b[43m \u001b[49m\u001b[43mA\u001b[49m\u001b[43m,\u001b[49m\u001b[43m \u001b[49m\u001b[43ml\u001b[49m\u001b[43m,\u001b[49m\u001b[43m \u001b[49m\u001b[43mu\u001b[49m\u001b[43m,\u001b[49m\n\u001b[1;32m     92\u001b[0m \u001b[43m                    \u001b[49m\u001b[43mi_idx\u001b[49m\u001b[43m \u001b[49m\u001b[38;5;241;43m=\u001b[39;49m\u001b[43m \u001b[49m\u001b[43m[\u001b[49m\u001b[43m]\u001b[49m\u001b[43m,\u001b[49m\u001b[43m \u001b[49m\u001b[43mi_l\u001b[49m\u001b[43m \u001b[49m\u001b[38;5;241;43m=\u001b[39;49m\u001b[43m \u001b[49m\u001b[43m[\u001b[49m\u001b[43m]\u001b[49m\u001b[43m,\u001b[49m\u001b[43m \u001b[49m\u001b[43mi_u\u001b[49m\u001b[43m \u001b[49m\u001b[38;5;241;43m=\u001b[39;49m\u001b[43m \u001b[49m\u001b[43m[\u001b[49m\u001b[43m]\u001b[49m\u001b[43m,\u001b[49m\u001b[43m \u001b[49m\n\u001b[1;32m     93\u001b[0m \u001b[43m                    \u001b[49m\u001b[43msettings\u001b[49m\u001b[43m \u001b[49m\u001b[38;5;241;43m=\u001b[39;49m\u001b[43m \u001b[49m\u001b[43mosqp_settings\u001b[49m\u001b[43m,\u001b[49m\n\u001b[1;32m     94\u001b[0m \u001b[43m                    \u001b[49m\u001b[43mqp_settings\u001b[49m\u001b[43m \u001b[49m\u001b[38;5;241;43m=\u001b[39;49m\u001b[43m \u001b[49m\u001b[43mmiosqp_settings\u001b[49m\u001b[43m)\u001b[49m  \u001b[38;5;66;03m# No integer constraints for now\u001b[39;00m\n\u001b[1;32m     95\u001b[0m result \u001b[38;5;241m=\u001b[39m miosqp_solver\u001b[38;5;241m.\u001b[39msolve()\n\u001b[1;32m     97\u001b[0m \u001b[38;5;28;01mreturn\u001b[39;00m result\n",
      "File \u001b[0;32m~/projects/portopt/.venv/lib/python3.13/site-packages/miosqp/solver.py:59\u001b[0m, in \u001b[0;36mMIOSQP.setup\u001b[0;34m(self, P, q, A, l, u, i_idx, i_l, i_u, settings, qp_settings)\u001b[0m\n\u001b[1;32m     56\u001b[0m data \u001b[38;5;241m=\u001b[39m Data(P, q, A, l, u, i_idx, i_l, i_u)\n\u001b[1;32m     58\u001b[0m \u001b[38;5;66;03m# Create Workspace\u001b[39;00m\n\u001b[0;32m---> 59\u001b[0m \u001b[38;5;28mself\u001b[39m\u001b[38;5;241m.\u001b[39mwork \u001b[38;5;241m=\u001b[39m \u001b[43mWorkspace\u001b[49m\u001b[43m(\u001b[49m\u001b[43mdata\u001b[49m\u001b[43m,\u001b[49m\u001b[43m \u001b[49m\u001b[43msettings\u001b[49m\u001b[43m,\u001b[49m\u001b[43m \u001b[49m\u001b[43mqp_settings\u001b[49m\u001b[43m)\u001b[49m\n\u001b[1;32m     61\u001b[0m stop \u001b[38;5;241m=\u001b[39m time()\n\u001b[1;32m     63\u001b[0m \u001b[38;5;28mself\u001b[39m\u001b[38;5;241m.\u001b[39mwork\u001b[38;5;241m.\u001b[39msetup_time \u001b[38;5;241m=\u001b[39m stop \u001b[38;5;241m-\u001b[39m start\n",
      "File \u001b[0;32m~/projects/portopt/.venv/lib/python3.13/site-packages/miosqp/workspace.py:67\u001b[0m, in \u001b[0;36mWorkspace.__init__\u001b[0;34m(self, data, settings, qp_settings)\u001b[0m\n\u001b[1;32m     65\u001b[0m \u001b[38;5;28;01mif\u001b[39;00m \u001b[38;5;28mself\u001b[39m\u001b[38;5;241m.\u001b[39mqp_settings \u001b[38;5;129;01mis\u001b[39;00m \u001b[38;5;28;01mNone\u001b[39;00m:\n\u001b[1;32m     66\u001b[0m     \u001b[38;5;28mself\u001b[39m\u001b[38;5;241m.\u001b[39mqp_settings \u001b[38;5;241m=\u001b[39m {}\n\u001b[0;32m---> 67\u001b[0m \u001b[38;5;28;43mself\u001b[39;49m\u001b[38;5;241;43m.\u001b[39;49m\u001b[43msolver\u001b[49m\u001b[38;5;241;43m.\u001b[39;49m\u001b[43msetup\u001b[49m\u001b[43m(\u001b[49m\u001b[38;5;28;43mself\u001b[39;49m\u001b[38;5;241;43m.\u001b[39;49m\u001b[43mdata\u001b[49m\u001b[38;5;241;43m.\u001b[39;49m\u001b[43mP\u001b[49m\u001b[43m,\u001b[49m\u001b[43m \u001b[49m\u001b[38;5;28;43mself\u001b[39;49m\u001b[38;5;241;43m.\u001b[39;49m\u001b[43mdata\u001b[49m\u001b[38;5;241;43m.\u001b[39;49m\u001b[43mq\u001b[49m\u001b[43m,\u001b[49m\u001b[43m \u001b[49m\u001b[38;5;28;43mself\u001b[39;49m\u001b[38;5;241;43m.\u001b[39;49m\u001b[43mdata\u001b[49m\u001b[38;5;241;43m.\u001b[39;49m\u001b[43mA\u001b[49m\u001b[43m,\u001b[49m\n\u001b[1;32m     68\u001b[0m \u001b[43m                  \u001b[49m\u001b[38;5;28;43mself\u001b[39;49m\u001b[38;5;241;43m.\u001b[39;49m\u001b[43mdata\u001b[49m\u001b[38;5;241;43m.\u001b[39;49m\u001b[43ml\u001b[49m\u001b[43m,\u001b[49m\u001b[43m \u001b[49m\u001b[38;5;28;43mself\u001b[39;49m\u001b[38;5;241;43m.\u001b[39;49m\u001b[43mdata\u001b[49m\u001b[38;5;241;43m.\u001b[39;49m\u001b[43mu\u001b[49m\u001b[43m,\u001b[49m\u001b[43m \u001b[49m\u001b[38;5;241;43m*\u001b[39;49m\u001b[38;5;241;43m*\u001b[39;49m\u001b[43mqp_settings\u001b[49m\u001b[43m)\u001b[49m\n\u001b[1;32m     70\u001b[0m \u001b[38;5;66;03m# Define other internal variables\u001b[39;00m\n\u001b[1;32m     71\u001b[0m \u001b[38;5;28mself\u001b[39m\u001b[38;5;241m.\u001b[39mfirst_run \u001b[38;5;241m=\u001b[39m \u001b[38;5;241m1\u001b[39m\n",
      "File \u001b[0;32m~/projects/portopt/.venv/lib/python3.13/site-packages/osqp/interface.py:36\u001b[0m, in \u001b[0;36mOSQP.setup\u001b[0;34m(self, P, q, A, l, u, **settings)\u001b[0m\n\u001b[1;32m     33\u001b[0m \u001b[38;5;66;03m# TODO(bart): this will be unnecessary when the derivative will be in C\u001b[39;00m\n\u001b[1;32m     34\u001b[0m \u001b[38;5;28mself\u001b[39m\u001b[38;5;241m.\u001b[39m_derivative_cache \u001b[38;5;241m=\u001b[39m {\u001b[38;5;124m'\u001b[39m\u001b[38;5;124mP\u001b[39m\u001b[38;5;124m'\u001b[39m: P, \u001b[38;5;124m'\u001b[39m\u001b[38;5;124mq\u001b[39m\u001b[38;5;124m'\u001b[39m: q, \u001b[38;5;124m'\u001b[39m\u001b[38;5;124mA\u001b[39m\u001b[38;5;124m'\u001b[39m: A, \u001b[38;5;124m'\u001b[39m\u001b[38;5;124ml\u001b[39m\u001b[38;5;124m'\u001b[39m: l, \u001b[38;5;124m'\u001b[39m\u001b[38;5;124mu\u001b[39m\u001b[38;5;124m'\u001b[39m: u}\n\u001b[0;32m---> 36\u001b[0m unpacked_data, settings \u001b[38;5;241m=\u001b[39m \u001b[43mutils\u001b[49m\u001b[38;5;241;43m.\u001b[39;49m\u001b[43mprepare_data\u001b[49m\u001b[43m(\u001b[49m\u001b[43mP\u001b[49m\u001b[43m,\u001b[49m\u001b[43m \u001b[49m\u001b[43mq\u001b[49m\u001b[43m,\u001b[49m\u001b[43m \u001b[49m\u001b[43mA\u001b[49m\u001b[43m,\u001b[49m\u001b[43m \u001b[49m\u001b[43ml\u001b[49m\u001b[43m,\u001b[49m\u001b[43m \u001b[49m\u001b[43mu\u001b[49m\u001b[43m,\u001b[49m\u001b[43m \u001b[49m\u001b[38;5;241;43m*\u001b[39;49m\u001b[38;5;241;43m*\u001b[39;49m\u001b[43msettings\u001b[49m\u001b[43m)\u001b[49m\n\u001b[1;32m     37\u001b[0m \u001b[38;5;28mself\u001b[39m\u001b[38;5;241m.\u001b[39m_model\u001b[38;5;241m.\u001b[39msetup(\u001b[38;5;241m*\u001b[39munpacked_data, \u001b[38;5;241m*\u001b[39m\u001b[38;5;241m*\u001b[39msettings)\n",
      "File \u001b[0;32m~/projects/portopt/.venv/lib/python3.13/site-packages/osqp/utils.py:96\u001b[0m, in \u001b[0;36mprepare_data\u001b[0;34m(P, q, A, l, u, **settings)\u001b[0m\n\u001b[1;32m     88\u001b[0m \u001b[38;5;66;03m#\u001b[39;00m\n\u001b[1;32m     89\u001b[0m \u001b[38;5;66;03m# Check vector dimensions (not checked from C solver)\u001b[39;00m\n\u001b[1;32m     90\u001b[0m \u001b[38;5;66;03m#\u001b[39;00m\n\u001b[0;32m   (...)\u001b[0m\n\u001b[1;32m     93\u001b[0m \u001b[38;5;66;03m# if A.shape[1] != n:\u001b[39;00m\n\u001b[1;32m     94\u001b[0m \u001b[38;5;66;03m#     raise ValueError(\"Dimension n in A and P does not match\")\u001b[39;00m\n\u001b[1;32m     95\u001b[0m \u001b[38;5;28;01mif\u001b[39;00m \u001b[38;5;28mlen\u001b[39m(q) \u001b[38;5;241m!=\u001b[39m n:\n\u001b[0;32m---> 96\u001b[0m     \u001b[38;5;28;01mraise\u001b[39;00m \u001b[38;5;167;01mValueError\u001b[39;00m(\u001b[38;5;124m\"\u001b[39m\u001b[38;5;124mIncorrect dimension of q\u001b[39m\u001b[38;5;124m\"\u001b[39m)\n\u001b[1;32m     97\u001b[0m \u001b[38;5;28;01mif\u001b[39;00m \u001b[38;5;28mlen\u001b[39m(l) \u001b[38;5;241m!=\u001b[39m m:\n\u001b[1;32m     98\u001b[0m     \u001b[38;5;28;01mraise\u001b[39;00m \u001b[38;5;167;01mValueError\u001b[39;00m(\u001b[38;5;124m\"\u001b[39m\u001b[38;5;124mIncorrect dimension of l\u001b[39m\u001b[38;5;124m\"\u001b[39m)\n",
      "\u001b[0;31mValueError\u001b[0m: Incorrect dimension of q"
     ]
    }
   ],
   "source": [
    "setup_and_solve(exposure_matrix, target_exposures)"
   ]
  },
  {
   "cell_type": "code",
   "execution_count": 9,
   "id": "172f7a12-e7bd-4eef-a5fd-b72c923b6fa4",
   "metadata": {},
   "outputs": [
    {
     "data": {
      "text/plain": [
       "'0.6.7.post3'"
      ]
     },
     "execution_count": 9,
     "metadata": {},
     "output_type": "execute_result"
    }
   ],
   "source": [
    "import osqp\n",
    "osqp.__version__"
   ]
  },
  {
   "cell_type": "code",
   "execution_count": 20,
   "id": "9c58180e-c2a1-433f-87e5-d47872cd5556",
   "metadata": {},
   "outputs": [
    {
     "data": {
      "text/plain": [
       "(2,)"
      ]
     },
     "execution_count": 20,
     "metadata": {},
     "output_type": "execute_result"
    }
   ],
   "source": [
    "np.array([1, 1]).shape"
   ]
  },
  {
   "cell_type": "code",
   "execution_count": 55,
   "id": "12bf7376-1cae-4319-b2e4-00a4f6afa4ac",
   "metadata": {},
   "outputs": [
    {
     "name": "stdout",
     "output_type": "stream",
     "text": [
      "-----------------------------------------------------------------\n",
      "           OSQP v0.6.3  -  Operator Splitting QP Solver\n",
      "              (c) Bartolomeo Stellato,  Goran Banjac\n",
      "        University of Oxford  -  Stanford University 2021\n",
      "-----------------------------------------------------------------\n",
      "problem:  variables n = 2, constraints m = 3\n",
      "          nnz(P) + nnz(A) = 7\n",
      "settings: linear system solver = qdldl,\n",
      "          eps_abs = 1.0e-03, eps_rel = 1.0e-03,\n",
      "          eps_prim_inf = 1.0e-04, eps_dual_inf = 1.0e-04,\n",
      "          rho = 1.00e-01 (adaptive),\n",
      "          sigma = 1.00e-06, alpha = 1.60, max_iter = 1000\n",
      "          check_termination: on (interval 25),\n",
      "          scaling: on, scaled_termination: off\n",
      "          warm start: on, polish: off, time_limit: off\n",
      "\n",
      "     Nodes      |           Current Node        |             Objective Bounds             |   Cur Node\n",
      "Explr\tUnexplr\t|      Obj\tDepth\tIntInf  |    Lower\t   Upper\t    Gap    |     Iter\n"
     ]
    },
    {
     "ename": "KeyError",
     "evalue": "'max_iter_bb'",
     "output_type": "error",
     "traceback": [
      "\u001b[0;31m---------------------------------------------------------------------------\u001b[0m",
      "\u001b[0;31mKeyError\u001b[0m                                  Traceback (most recent call last)",
      "Cell \u001b[0;32mIn[55], line 46\u001b[0m\n\u001b[1;32m     41\u001b[0m miosqp_solver \u001b[38;5;241m=\u001b[39m miosqp\u001b[38;5;241m.\u001b[39mMIOSQP()\n\u001b[1;32m     42\u001b[0m miosqp_solver\u001b[38;5;241m.\u001b[39msetup(P, q, A, l, u,\n\u001b[1;32m     43\u001b[0m                     i_idx \u001b[38;5;241m=\u001b[39m [], i_l \u001b[38;5;241m=\u001b[39m [], i_u \u001b[38;5;241m=\u001b[39m [], \n\u001b[1;32m     44\u001b[0m                     settings \u001b[38;5;241m=\u001b[39m osqp_settings,\n\u001b[1;32m     45\u001b[0m                     qp_settings \u001b[38;5;241m=\u001b[39m miosqp_settings)  \u001b[38;5;66;03m# No integer constraints for now\u001b[39;00m\n\u001b[0;32m---> 46\u001b[0m result \u001b[38;5;241m=\u001b[39m \u001b[43mmiosqp_solver\u001b[49m\u001b[38;5;241;43m.\u001b[39;49m\u001b[43msolve\u001b[49m\u001b[43m(\u001b[49m\u001b[43m)\u001b[49m\n",
      "File \u001b[0;32m~/projects/portopt/.venv/lib/python3.13/site-packages/miosqp/solver.py:85\u001b[0m, in \u001b[0;36mMIOSQP.solve\u001b[0;34m(self)\u001b[0m\n\u001b[1;32m     82\u001b[0m     work\u001b[38;5;241m.\u001b[39mprint_headline()\n\u001b[1;32m     84\u001b[0m \u001b[38;5;66;03m# Loop tree until there are active leaves\u001b[39;00m\n\u001b[0;32m---> 85\u001b[0m \u001b[38;5;28;01mwhile\u001b[39;00m \u001b[43mwork\u001b[49m\u001b[38;5;241;43m.\u001b[39;49m\u001b[43mcan_continue\u001b[49m\u001b[43m(\u001b[49m\u001b[43m)\u001b[49m:\n\u001b[1;32m     86\u001b[0m \n\u001b[1;32m     87\u001b[0m     \u001b[38;5;66;03m# 1) Choose leaf\u001b[39;00m\n\u001b[1;32m     88\u001b[0m     leaf \u001b[38;5;241m=\u001b[39m work\u001b[38;5;241m.\u001b[39mchoose_leaf(work\u001b[38;5;241m.\u001b[39msettings[\u001b[38;5;124m'\u001b[39m\u001b[38;5;124mtree_explor_rule\u001b[39m\u001b[38;5;124m'\u001b[39m])\n\u001b[1;32m     90\u001b[0m     \u001b[38;5;66;03m# 2) Solve relaxed problem in leaf\u001b[39;00m\n",
      "File \u001b[0;32m~/projects/portopt/.venv/lib/python3.13/site-packages/miosqp/workspace.py:123\u001b[0m, in \u001b[0;36mWorkspace.can_continue\u001b[0;34m(self)\u001b[0m\n\u001b[1;32m    120\u001b[0m     \u001b[38;5;28;01mreturn\u001b[39;00m \u001b[38;5;28;01mFalse\u001b[39;00m\n\u001b[1;32m    122\u001b[0m \u001b[38;5;66;03m# Check if the number of iterations is within the limit\u001b[39;00m\n\u001b[0;32m--> 123\u001b[0m \u001b[38;5;28;01mif\u001b[39;00m \u001b[38;5;129;01mnot\u001b[39;00m \u001b[38;5;28mself\u001b[39m\u001b[38;5;241m.\u001b[39miter_num \u001b[38;5;241m<\u001b[39m \u001b[38;5;28;43mself\u001b[39;49m\u001b[38;5;241;43m.\u001b[39;49m\u001b[43msettings\u001b[49m\u001b[43m[\u001b[49m\u001b[38;5;124;43m'\u001b[39;49m\u001b[38;5;124;43mmax_iter_bb\u001b[39;49m\u001b[38;5;124;43m'\u001b[39;49m\u001b[43m]\u001b[49m:\n\u001b[1;32m    124\u001b[0m     \u001b[38;5;28;01mreturn\u001b[39;00m \u001b[38;5;28;01mFalse\u001b[39;00m\n\u001b[1;32m    126\u001b[0m \u001b[38;5;28;01mreturn\u001b[39;00m \u001b[38;5;28;01mTrue\u001b[39;00m\n",
      "\u001b[0;31mKeyError\u001b[0m: 'max_iter_bb'"
     ]
    }
   ],
   "source": [
    "P = sparse.csc_matrix([[4, 1], [1, 2]])\n",
    "q = np.array([1, 1])\n",
    "A = sparse.csc_matrix([[1, 1], [1, 0], [0, 1]])\n",
    "l = np.array([1, 0, 0])\n",
    "u = np.array([1, 0.7, 0.7])\n",
    "\n",
    "# Create an OSQP object\n",
    "#prob = osqp.OSQP()\n",
    "\n",
    "# Setup workspace and change alpha parameter\n",
    "#prob.setup(P, q, A, l, u, alpha=1.0)\n",
    "\n",
    "# Solve problem\n",
    "#res = prob.solve()\n",
    "\n",
    "# Define problem settings\n",
    "# Taken from: https://github.com/osqp/miosqp/blob/master/examples/random_miqp/run_example.py#L98\n",
    "miosqp_settings = {\n",
    "    # integer feasibility tolerance\n",
    "#    'eps_int_feas': 1e-03,\n",
    "    # maximum number of iterations\n",
    "#    'max_iter_bb': 1000,\n",
    "    'max_iter': 1000,\n",
    "    # tree exploration rule\n",
    "    #   [0] depth first\n",
    "    #   [1] two-phase: depth first until first incumbent and then  best bound\n",
    "#    'tree_explor_rule': 1,\n",
    "    # branching rule\n",
    "    #   [0] max fractional part\n",
    "#    'branching_rule': 0,\n",
    "    'verbose': True,\n",
    "#    'print_interval': 1\n",
    "}\n",
    "\n",
    "osqp_settings = {\n",
    "    'eps_abs': 1e-03,\n",
    "    'eps_rel': 1e-03,\n",
    "    'eps_prim_inf': 1e-04,\n",
    "    'verbose': True}\n",
    "\n",
    "miosqp_solver = miosqp.MIOSQP()\n",
    "miosqp_solver.setup(P, q, A, l, u,\n",
    "                    i_idx = [], i_l = [], i_u = [], \n",
    "                    settings = osqp_settings,\n",
    "                    qp_settings = miosqp_settings)  # No integer constraints for now\n",
    "result = miosqp_solver.solve()\n"
   ]
  },
  {
   "cell_type": "code",
   "execution_count": 56,
   "id": "90b1e72c-9ffb-4c07-aaf9-dc77a3311ed5",
   "metadata": {},
   "outputs": [
    {
     "name": "stdout",
     "output_type": "stream",
     "text": [
      "-----------------------------------------------------------------\n",
      "           OSQP v0.6.3  -  Operator Splitting QP Solver\n",
      "              (c) Bartolomeo Stellato,  Goran Banjac\n",
      "        University of Oxford  -  Stanford University 2021\n",
      "-----------------------------------------------------------------\n",
      "problem:  variables n = 2, constraints m = 3\n",
      "          nnz(P) + nnz(A) = 7\n",
      "settings: linear system solver = qdldl,\n",
      "          eps_abs = 1.0e-03, eps_rel = 1.0e-03,\n",
      "          eps_prim_inf = 1.0e-04, eps_dual_inf = 1.0e-04,\n",
      "          rho = 1.00e-01 (adaptive),\n",
      "          sigma = 1.00e-06, alpha = 1.00, max_iter = 4000\n",
      "          check_termination: on (interval 25),\n",
      "          scaling: on, scaled_termination: off\n",
      "          warm start: on, polish: off, time_limit: off\n",
      "\n",
      "iter   objective    pri res    dua res    rho        time\n",
      "   1  -4.9384e-03   1.00e+00   2.00e+02   1.00e-01   7.64e-05s\n",
      "  50   1.8800e+00   1.91e-07   7.50e-07   1.38e+00   2.18e-04s\n",
      "\n",
      "status:               solved\n",
      "number of iterations: 50\n",
      "optimal objective:    1.8800\n",
      "run time:             3.29e-04s\n",
      "optimal rho estimate: 1.36e+00\n",
      "\n"
     ]
    }
   ],
   "source": [
    "import osqp\n",
    "import numpy as np\n",
    "from scipy import sparse\n",
    "\n",
    "# Define problem data\n",
    "P = sparse.csc_matrix([[4, 1], [1, 2]])\n",
    "q = np.array([1, 1])\n",
    "A = sparse.csc_matrix([[1, 1], [1, 0], [0, 1]])\n",
    "l = np.array([1, 0, 0])\n",
    "u = np.array([1, 0.7, 0.7])\n",
    "\n",
    "# Create an OSQP object\n",
    "prob = osqp.OSQP()\n",
    "\n",
    "# Setup workspace and change alpha parameter\n",
    "prob.setup(P, q, A, l, u, alpha=1.0)\n",
    "\n",
    "# Solve problem\n",
    "res = prob.solve()"
   ]
  },
  {
   "cell_type": "code",
   "execution_count": 63,
   "id": "437c6c0c-393d-4fff-ad47-ee59a2ba75a0",
   "metadata": {},
   "outputs": [
    {
     "ename": "TypeError",
     "evalue": "random() missing 1 required positional argument: 'n'",
     "output_type": "error",
     "traceback": [
      "\u001b[0;31m---------------------------------------------------------------------------\u001b[0m",
      "\u001b[0;31mTypeError\u001b[0m                                 Traceback (most recent call last)",
      "Cell \u001b[0;32mIn[63], line 16\u001b[0m\n\u001b[1;32m     14\u001b[0m Pt \u001b[38;5;241m=\u001b[39m spa\u001b[38;5;241m.\u001b[39mrandom(n, n, density\u001b[38;5;241m=\u001b[39mdns_level)\n\u001b[1;32m     15\u001b[0m P \u001b[38;5;241m=\u001b[39m spa\u001b[38;5;241m.\u001b[39mcsc_matrix(np\u001b[38;5;241m.\u001b[39mdot(Pt, Pt\u001b[38;5;241m.\u001b[39mT))\n\u001b[0;32m---> 16\u001b[0m q \u001b[38;5;241m=\u001b[39m \u001b[43mspa\u001b[49m\u001b[38;5;241;43m.\u001b[39;49m\u001b[43mrandom\u001b[49m\u001b[43m(\u001b[49m\u001b[43mn\u001b[49m\u001b[43m)\u001b[49m\n\u001b[1;32m     17\u001b[0m A \u001b[38;5;241m=\u001b[39m spa\u001b[38;5;241m.\u001b[39mrandom(m, n, density\u001b[38;5;241m=\u001b[39mdns_level)\n\u001b[1;32m     18\u001b[0m u \u001b[38;5;241m=\u001b[39m \u001b[38;5;241m2\u001b[39m \u001b[38;5;241m+\u001b[39m sp\u001b[38;5;241m.\u001b[39mrand(m)\n",
      "\u001b[0;31mTypeError\u001b[0m: random() missing 1 required positional argument: 'n'"
     ]
    }
   ],
   "source": [
    "# From: https://github.com/osqp/miosqp/blob/master/examples/random_miqp/run_example.py\n",
    "\n",
    "import scipy as sp\n",
    "import scipy.sparse as spa\n",
    "import numpy as np\n",
    "\n",
    "# Get dimensions\n",
    "n = 10 # n_vec[i]\n",
    "m = 5  # m_vec[i]\n",
    "p = 2  # p_vec[i]\n",
    "dns_level = 0.7         # density level for sparse matrices\n",
    "\n",
    "# Generate random Matrices\n",
    "Pt = spa.random(n, n, density=dns_level)\n",
    "P = spa.csc_matrix(np.dot(Pt, Pt.T))\n",
    "q = spa.random(n)\n",
    "A = spa.random(m, n, density=dns_level)\n",
    "u = 2 + sp.rand(m)\n",
    "l = -2 + sp.rand(m)\n",
    "\n",
    "# Enforce [0, 1] bounds on variables\n",
    "i_l = np.zeros(p)\n",
    "i_u = np.ones(p)\n",
    "#  A, l, u = miosqp.add_bounds(i_idx, 0., 1., A, l, u)\n"
   ]
  },
  {
   "cell_type": "code",
   "execution_count": null,
   "id": "7c712423-570e-46cc-8929-1dade73cc74d",
   "metadata": {},
   "outputs": [],
   "source": []
  },
  {
   "cell_type": "code",
   "execution_count": null,
   "id": "d4af69c5-5a26-4d1d-bc3b-a05ca5605d36",
   "metadata": {},
   "outputs": [],
   "source": []
  }
 ],
 "metadata": {
  "kernelspec": {
   "display_name": "Portfolio Optimization",
   "language": "python",
   "name": "portopt"
  },
  "language_info": {
   "codemirror_mode": {
    "name": "ipython",
    "version": 3
   },
   "file_extension": ".py",
   "mimetype": "text/x-python",
   "name": "python",
   "nbconvert_exporter": "python",
   "pygments_lexer": "ipython3",
   "version": "3.13.0"
  }
 },
 "nbformat": 4,
 "nbformat_minor": 5
}
