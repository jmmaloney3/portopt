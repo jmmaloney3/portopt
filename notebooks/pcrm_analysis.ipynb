{
 "cells": [
  {
   "cell_type": "markdown",
   "metadata": {},
   "source": [
    "This notebook is for repeating some of the analysis from the book \"Portfolio Construction and Risk Management\" by Anton Vorobets.\n",
    "\n",
    "This book is available for free at https://antonvorobets.substack.com/api/v1/file/d4f539ae-a117-46d5-a5d2-a60af8e568e4.pdf.\n"
   ]
  },
  {
   "cell_type": "code",
   "execution_count": 1,
   "metadata": {},
   "outputs": [],
   "source": [
    "# import functions from utils and porteval\n",
    "import sys\n",
    "import os\n",
    "\n",
    "# Get absolute path to src directory\n",
    "src_path = os.path.abspath(os.path.join(os.path.dirname('__file__'), '..', 'src'))\n",
    "\n",
    "# Only add to path if not already there\n",
    "if src_path not in sys.path:\n",
    "    sys.path.append(src_path)\n",
    "\n",
    "from utils import get_tickers_data, plot_time_series\n",
    "from utils import test_autocorrelation"
   ]
  },
  {
   "cell_type": "code",
   "execution_count": null,
   "metadata": {},
   "outputs": [],
   "source": [
    "# get sp500 data\n",
    "sp500_df = get_tickers_data(['^GSPC'],\n",
    "                            start_date='1998-12-01')\n",
    "sp500_df\n"
   ]
  },
  {
   "cell_type": "code",
   "execution_count": null,
   "metadata": {},
   "outputs": [],
   "source": [
    "# calculate daily returns in %\n",
    "sp500_df['Return'] = sp500_df['^GSPC'].pct_change() * 100\n",
    "sp500_df"
   ]
  },
  {
   "cell_type": "code",
   "execution_count": null,
   "metadata": {},
   "outputs": [],
   "source": [
    "# plot the sp500 data\n",
    "plot_time_series(sp500_df['Return'], title=\"S&P 500 Daily Returns\")"
   ]
  },
  {
   "cell_type": "code",
   "execution_count": null,
   "metadata": {},
   "outputs": [],
   "source": [
    "# calculate absolute value of returns in %\n",
    "sp500_df['Abs Return'] = sp500_df['Return'].abs()\n",
    "sp500_df"
   ]
  },
  {
   "cell_type": "code",
   "execution_count": null,
   "metadata": {},
   "outputs": [],
   "source": [
    "# plot the absolute value of returns in %\n",
    "plot_time_series(sp500_df['Abs Return'], title=\"S&P 500 Daily Absolute Returns\")"
   ]
  },
  {
   "cell_type": "code",
   "execution_count": null,
   "metadata": {},
   "outputs": [],
   "source": [
    "# test for autocorrelation\n",
    "test_autocorrelation(sp500_df, lags=1)"
   ]
  }
 ],
 "metadata": {
  "kernelspec": {
   "display_name": "Portfolio Optimization",
   "language": "python",
   "name": "portopt"
  },
  "language_info": {
   "codemirror_mode": {
    "name": "ipython",
    "version": 3
   },
   "file_extension": ".py",
   "mimetype": "text/x-python",
   "name": "python",
   "nbconvert_exporter": "python",
   "pygments_lexer": "ipython3",
   "version": "3.12.7"
  }
 },
 "nbformat": 4,
 "nbformat_minor": 2
}
