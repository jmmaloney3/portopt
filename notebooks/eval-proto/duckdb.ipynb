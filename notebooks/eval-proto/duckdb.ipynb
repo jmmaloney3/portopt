{
 "cells": [
  {
   "cell_type": "code",
   "execution_count": 1,
   "metadata": {},
   "outputs": [],
   "source": [
    "# import functions from modules\n",
    "import sys\n",
    "import os\n",
    "\n",
    "# Get absolute path to src directory\n",
    "src_path = os.path.abspath(os.path.join(os.path.dirname('__file__'), '..', 'src'))\n",
    "\n",
    "# Only add to path if not already there\n",
    "if src_path not in sys.path:\n",
    "    sys.path.append(src_path)\n",
    "\n",
    "from portopt.utils import write_table\n",
    "from portopt.config import load_config\n",
    "# holdings_fact\n",
    "from portopt.holdings import load_and_consolidate_holdings\n",
    "# price_fact\n",
    "from portopt.market_data import get_latest_ticker_prices\n",
    "# factor_dim\n",
    "from portopt.factor import load_factor_dimension\n",
    "# factor_weights\n",
    "from portopt.factor import load_factor_weights\n",
    "\n",
    "# duckdb\n",
    "import duckdb"
   ]
  },
  {
   "cell_type": "code",
   "execution_count": null,
   "metadata": {},
   "outputs": [],
   "source": [
    "# holdings directory\n",
    "portfolio_dir = \"../../data/portfolio\"\n",
    "holdings_dir = os.path.join(portfolio_dir, \"holdings\")\n",
    "\n",
    "print(\"portfolio_dir:\", portfolio_dir)\n",
    "print(\"holdings_dir:\", holdings_dir)"
   ]
  },
  {
   "cell_type": "code",
   "execution_count": 7,
   "metadata": {},
   "outputs": [],
   "source": [
    "# load config\n",
    "config_file = os.path.join(portfolio_dir, \"config.yml\")\n",
    "config = load_config(config_file)"
   ]
  },
  {
   "cell_type": "code",
   "execution_count": 34,
   "metadata": {},
   "outputs": [],
   "source": [
    "column_formats = {\n",
    "    'Ticker': {'width': 14},\n",
    "    'Level_0': {'width': 14},\n",
    "    'Level_1': {'width': 14},\n",
    "    'Level_2': {'width': 14},\n",
    "    'Level_3': {'width': 14},\n",
    "    'Level_4': {'width': 14},\n",
    "    'Level_5': {'width': 14},\n",
    "    'Level_6': {'width': 14},\n",
    "    'Factor': {'width': 14},\n",
    "    'Original Ticker': {'width': 14},\n",
    "    'Asset Class': {'width': 25},\n",
    "    'Account': {'width': 15, 'align': '<'},\n",
    "    'Account Number': {'width': 14, 'align': '^'},\n",
    "    'Account Name': {'width': 15, 'align': '<'},\n",
    "    'Quantity': {'width': 10, 'decimal': 3},\n",
    "    'Original Quantity': {'width': 10, 'decimal': 3},\n",
    "    'Cost Basis': {'width': 16, 'decimal': 2, 'prefix': '$'},\n",
    "    'Price': {'width': 16, 'decimal': 2, 'prefix': '$'},\n",
    "    'Value': {'width': 16, 'decimal': 2, 'prefix': '$'},\n",
    "    'Total Value': {'width': 16, 'decimal': 2, 'prefix': '$'},\n",
    "    'Original Value': {'width': 16, 'decimal': 2, 'prefix': '$'},\n",
    "    'Allocation': {'width': 16, 'decimal': 2, 'type':'%'},\n",
    "    'Weight': {'width': 16, 'decimal': 2, 'type':'%'}\n",
    "}"
   ]
  },
  {
   "cell_type": "code",
   "execution_count": null,
   "metadata": {},
   "outputs": [],
   "source": [
    "# load the dimensions and facts\n",
    "# holdings_fact\n",
    "holdings_fact = load_and_consolidate_holdings(holdings_dir,\n",
    "                                              config=config,\n",
    "                                              verbose=False)\n",
    "\n",
    "write_table(holdings_fact, columns=column_formats)"
   ]
  },
  {
   "cell_type": "code",
   "execution_count": null,
   "metadata": {},
   "outputs": [],
   "source": [
    "# price_fact\n",
    "tickers = holdings_fact.index.get_level_values('Ticker').unique()\n",
    "price_fact = get_latest_ticker_prices(tickers, verbose=True)\n",
    "\n",
    "write_table(price_fact, columns=column_formats)"
   ]
  },
  {
   "cell_type": "code",
   "execution_count": null,
   "metadata": {},
   "outputs": [],
   "source": [
    "# factor_dim\n",
    "factor_dim = load_factor_dimension(config)\n",
    "write_table(factor_dim, columns=column_formats)\n"
   ]
  },
  {
   "cell_type": "code",
   "execution_count": null,
   "metadata": {},
   "outputs": [],
   "source": [
    "# factor_weights\n",
    "file_path = os.path.join(portfolio_dir, \"asset_class_weights_matrix.csv\")\n",
    "factor_weights = load_factor_weights(file_path, factor_dim)\n",
    "write_table(factor_weights, columns=column_formats)"
   ]
  },
  {
   "cell_type": "code",
   "execution_count": null,
   "metadata": {},
   "outputs": [],
   "source": [
    "import duckdb\n",
    "\n",
    "# Connect to an in-memory DuckDB instance\n",
    "con = duckdb.connect()\n",
    "\n",
    "holdings_fact = holdings_fact.reset_index()\n",
    "price_fact = price_fact.reset_index()\n",
    "factor_dim = factor_dim.reset_index()\n",
    "factor_weights = factor_weights.reset_index()\n",
    "\n",
    "# Register DataFrames as DuckDB tables\n",
    "con.register(\"holdings_fact\", holdings_fact)\n",
    "con.register(\"price_fact\", price_fact)\n",
    "con.register(\"factor_dim\", factor_dim)\n",
    "con.register(\"factor_weights\", factor_weights)"
   ]
  },
  {
   "cell_type": "code",
   "execution_count": null,
   "metadata": {},
   "outputs": [],
   "source": [
    "query = \"\"\"\n",
    "WITH\n",
    "base_with_weights AS (\n",
    "  SELECT\n",
    "    h.account,\n",
    "    h.ticker,\n",
    "    h.quantity,\n",
    "    p.price,\n",
    "    f.level_0,\n",
    "    f.level_1,\n",
    "    SUM(fw.weight) AS weight,\n",
    "  FROM\n",
    "    holdings_fact h\n",
    "    LEFT JOIN price_fact p\n",
    "      ON h.ticker = p.ticker\n",
    "    LEFT JOIN factor_weights fw\n",
    "      ON h.ticker = fw.ticker\n",
    "    LEFT JOIN factor_dim f\n",
    "      ON fw.factor = f.factor\n",
    "  GROUP BY h.account, h.ticker, h.quantity, p.price, f.level_0, f.level_1\n",
    "),\n",
    "filtered_position_values AS (\n",
    "  SELECT\n",
    "    account,\n",
    "    ticker,\n",
    "    (quantity * price * weight) as Value\n",
    "  FROM base_with_weights\n",
    "  WHERE level_0 = 'Equity' AND level_1 = 'US'\n",
    "  GROUP BY account, ticker, quantity, price, weight\n",
    ")\n",
    "SELECT\n",
    "  account,\n",
    "  SUM(Value) AS Value\n",
    "FROM filtered_position_values\n",
    "GROUP BY account\n",
    "\"\"\"\n",
    "result = con.execute(query).fetchdf()\n",
    "write_table(result, columns=column_formats)"
   ]
  },
  {
   "cell_type": "code",
   "execution_count": null,
   "metadata": {},
   "outputs": [],
   "source": [
    "query = \"\"\"\n",
    "SELECT\n",
    "  h.account,\n",
    "  SUM(h.quantity * p.price) AS Value,\n",
    "  (Value / (\n",
    "       SELECT \n",
    "         SUM(h.quantity * p.price)\n",
    "         FROM holdings_fact h\n",
    "         JOIN price_fact p ON h.ticker = p.ticker)\n",
    "  ) AS Allocation\n",
    "FROM\n",
    "  holdings_fact h\n",
    "  LEFT JOIN price_fact p\n",
    "    ON h.ticker = p.ticker\n",
    "  LEFT JOIN factor_weights fw\n",
    "    ON h.ticker = fw.ticker\n",
    "  LEFT JOIN factor_dim f\n",
    "    ON fw.factor = f.factor\n",
    "WHERE\n",
    "  f.level_0 = 'Equity' AND f.level_1 = 'US'\n",
    "GROUP BY h.account\n",
    "\"\"\"\n",
    "result = con.execute(query).fetchdf()\n",
    "write_table(result, columns=column_formats)"
   ]
  },
  {
   "cell_type": "code",
   "execution_count": null,
   "metadata": {},
   "outputs": [],
   "source": [
    "query = \"\"\"\n",
    "    WITH ticker_values AS (\n",
    "        SELECT \n",
    "            h.Ticker,\n",
    "            SUM(h.Quantity * p.Price) AS ticker_total_value\n",
    "        FROM holdings_fact h\n",
    "        JOIN price_fact p ON h.Ticker = p.Ticker\n",
    "        GROUP BY h.Ticker\n",
    "    ),\n",
    "    portfolio_total AS (\n",
    "        SELECT SUM(ticker_total_value) AS total_portfolio_value\n",
    "        FROM ticker_values\n",
    "    )\n",
    "    SELECT \n",
    "        tv.Ticker,\n",
    "        tv.ticker_total_value as \"Total Value\",\n",
    "        (tv.ticker_total_value / pt.total_portfolio_value) AS \"Allocation\"\n",
    "    FROM ticker_values tv\n",
    "    CROSS JOIN portfolio_total pt\n",
    "    ORDER BY ticker_total_value DESC;\n",
    "\"\"\"\n",
    "\n",
    "result = con.execute(query).fetchdf()\n",
    "write_table(result, columns=column_formats)"
   ]
  }
 ],
 "metadata": {
  "kernelspec": {
   "display_name": "Portfolio Optimization",
   "language": "python",
   "name": "portopt"
  },
  "language_info": {
   "codemirror_mode": {
    "name": "ipython",
    "version": 3
   },
   "file_extension": ".py",
   "mimetype": "text/x-python",
   "name": "python",
   "nbconvert_exporter": "python",
   "pygments_lexer": "ipython3",
   "version": "3.12.7"
  }
 },
 "nbformat": 4,
 "nbformat_minor": 2
}
