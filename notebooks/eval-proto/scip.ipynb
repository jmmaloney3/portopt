{
 "cells": [
  {
   "cell_type": "markdown",
   "id": "271f4ccd-1900-462a-a339-42fed089b9a9",
   "metadata": {},
   "source": [
    "This notebook is was used to figure out how to solve the portfolio optimization problem using a LP/MIP/QP solver. This notebook contains a prototype that attempts to use [SCIP](https://scipopt.org) to solve the problem.\n",
    "\n",
    "The problem requires support for:\n",
    "* Quadratic programming (QP) - supports minimizing a quadratic objective function (i.e., sum of the squared difference)\n",
    "* Mixed-integer programming - supports integer variables (i.e., number of funds)\n",
    "* Linear constraints - support constraining overall allocation to 100% and the allocation to any specific asset class or fund to be less than 100%\n",
    "\n",
    "Because of these requirements, the solver needs to support mixed-integer quadratic programming (MIQP).\n",
    "\n",
    "Default builds of SCIP do not support MIQP.  I was not able to find clear instructions on how to create a build that supports MIQP."
   ]
  },
  {
   "cell_type": "code",
   "execution_count": 1,
   "id": "f303ddff-352e-4c95-aa5d-042efa30087a",
   "metadata": {},
   "outputs": [],
   "source": [
    "# import required packages\n",
    "import pandas as pd"
   ]
  },
  {
   "cell_type": "code",
   "execution_count": null,
   "id": "2215b53e-e30a-4bac-b39e-523acb82f04c",
   "metadata": {},
   "outputs": [],
   "source": [
    "file_path = \"../data/exposure_matrix.csv\"\n",
    "\n",
    "# Read only the header row\n",
    "headers = pd.read_csv(file_path, nrows=0).columns.tolist()\n",
    "\n",
    "# Define the default dtype for all columns except 'Ticker'\n",
    "dtype_dict = {col: float for col in headers if col != 'Ticker'}\n",
    "\n",
    "# Read the full file with the dynamically created dtype and converter\n",
    "data = pd.read_csv(\n",
    "    file_path,\n",
    "    dtype=dtype_dict,  # Set all columns to float except Ticker\n",
    "    converters={'Ticker': lambda x: x.strip()}  # Strip whitespace from Ticker column\n",
    ")\n",
    "data.set_index('Ticker', inplace=True)\n",
    "data.loc['BNDX']\n",
    "data.loc['BNDX', 'Intl Bonds']\n",
    "data.loc[:, 'Intl Bonds']\n",
    "data"
   ]
  },
  {
   "cell_type": "code",
   "execution_count": null,
   "id": "cc52e467-fbf0-4c9c-bd7c-87d708308910",
   "metadata": {},
   "outputs": [],
   "source": [
    "# extract_data(data):\n",
    "\n",
    "# Extract fund_matrix (all rows except the footer)\n",
    "fund_matrix = data.query(\"index != 'Targets'\")\n",
    "fund_matrix.loc['BNDX']\n",
    "fund_matrix.loc[:,'Cash']\n",
    "fund_matrix.loc['BNDX','Cash']\n",
    "fund_matrix"
   ]
  },
  {
   "cell_type": "code",
   "execution_count": null,
   "id": "354b1119-77f6-465d-8489-18bdb601515a",
   "metadata": {},
   "outputs": [],
   "source": [
    "# Extract asset_class_targets (footer row)\n",
    "asset_class_targets = data.loc['Targets']\n",
    "asset_class_targets.loc['Emerging']\n",
    "asset_class_targets"
   ]
  },
  {
   "cell_type": "code",
   "execution_count": null,
   "id": "1b7fbc30-540d-4d2c-ad6d-68395addf6fd",
   "metadata": {},
   "outputs": [],
   "source": [
    "# Extract fund tickers (first column)\n",
    "funds = fund_matrix.index\n",
    "funds"
   ]
  },
  {
   "cell_type": "code",
   "execution_count": null,
   "id": "e0bbadd6-fbe2-4945-bc72-07dda2d527e8",
   "metadata": {},
   "outputs": [],
   "source": [
    "# Extract asset classes (header row, excluding the first column)\n",
    "asset_classes = data.columns\n",
    "asset_classes"
   ]
  },
  {
   "cell_type": "code",
   "execution_count": 7,
   "id": "53bb2168-59d4-4dcd-a91a-9a4c51ff9b28",
   "metadata": {},
   "outputs": [],
   "source": [
    "# Problem:\n",
    "# Minimize the following:\n",
    "# - sum of the squared difference between final portfolio asset class allocations and target\n",
    "#   asset class allocations\n",
    "# - the number of funds included in the portfolio (# of funds with non-zero allocations)\n",
    "#\n",
    "# Subject to:\n",
    "# - sum of the final portfolio asset class allocations equals 1\n",
    "# - sum of the final portfolio fund allocations equals 1# - sum of the portfolio asset allocations equals 1\n",
    "# - portfolio allocation for each asset class is less than 1\n",
    "# - portfolio allocation for each fund is less than 1\n",
    "# - number of funds included in the portfolio is less than max_funds"
   ]
  },
  {
   "cell_type": "code",
   "execution_count": null,
   "id": "7d97b51d-3cf2-4542-92d7-e541bd38a07d",
   "metadata": {},
   "outputs": [],
   "source": [
    "# Initialize SCIP model\n",
    "model = Model(\"Portfolio Optimization\")\n",
    "model"
   ]
  },
  {
   "cell_type": "code",
   "execution_count": null,
   "id": "28e70baf-1229-445e-b28d-ca022c175400",
   "metadata": {},
   "outputs": [],
   "source": [
    "# Variables: allocation for each fund (lower bound = 0, upper bound = 1)\n",
    "portfolio_fund_allocations = {fund: model.addVar(vtype=\"C\", lb=0, ub=1, name=f\"x_{fund}\") for fund in funds}\n",
    "portfolio_fund_allocations"
   ]
  },
  {
   "cell_type": "code",
   "execution_count": null,
   "id": "27b31b36-a35e-427c-b376-0eecf374bae5",
   "metadata": {},
   "outputs": [],
   "source": [
    "# Variables: indicator (0/1) for whether a fund is included\n",
    "fund_included = {fund: model.addVar(vtype=\"B\", name=f\"y_{fund}\") for fund in funds}\n",
    "fund_included"
   ]
  },
  {
   "cell_type": "code",
   "execution_count": null,
   "id": "585f3e27-8b9f-47a6-a54c-19241af88470",
   "metadata": {},
   "outputs": [],
   "source": [
    "#\n",
    "# Objective: minimize:\n",
    "# - sum of the squared difference between final portfolio allocations and target allocations\n",
    "# - penalty for number of funds used\n",
    "\n",
    "# Objective: minimize squared differences + penalty for number of funds used\n",
    "#asset_allocations = quicksum(fund_allocations[ticker] * fund_matrix.loc[ticker] for ticker in tickers)\n",
    "#squared_diff = quicksum((asset_allocations[i] - target_allocations[i])**2 for i in range(len(target_allocations)))\n",
    "#sparsity_penalty = quicksum(fund_included[ticker] for ticker in tickers)\n",
    "\n",
    "\n",
    "# create dictionary with sums that calculate the portfolio's allocation to each asset\n",
    "# class given the allocation to each fund (portfolio_fund_allocations: variable to be optimized) and the known\n",
    "# asset class allocations for each fund (defined in fund_matrix)\n",
    "portfolio_asset_class_allocations = {asset_class: quicksum(portfolio_fund_allocations[fund] * \n",
    "                                                           fund_matrix.loc[fund, asset_class]\n",
    "                                                           for fund in funds)\n",
    "                                     for asset_class in asset_classes}\n",
    "\n",
    "# create a dictionary with the squared differences between the portfolio asset class allocation and\n",
    "# the target asset class allocations for each asset class (defined in asset_classes)\n",
    "asset_class_allocation_diff_squared = {asset_class: (portfolio_asset_class_allocations[asset_class] -\n",
    "                                                     asset_class_targets[asset_class]) ** 2\n",
    "                                                    for asset_class in asset_classes}\n",
    "\n",
    "# calculate the sum of the squared differences (this is the objective function)\n",
    "sum_of_squared_diff = quicksum(asset_class_allocation_diff_squared[asset_class] for asset_class in asset_classes)\n",
    "print(\"sum of squared diff:\\n\")\n",
    "for term in sum_of_squared_diff.terms:\n",
    "    print(term)\n",
    "\n",
    "# calculate the sparsity penalty for number of funds included\n",
    "sparsity_penalty = quicksum(fund_included[fund] for fund in funds)\n",
    "print(\"\\nsparsity penalty:\\n\")\n",
    "for term in sparsity_penalty.terms:\n",
    "    print(term)\n",
    "\n",
    "# objective function\n",
    "sparsity_weight = 0.5\n",
    "objective = sum_of_squared_diff + (sparsity_weight * sparsity_penalty)\n",
    "\n",
    "print(\"\\nobjective:\\n\")\n",
    "for term in objective.terms:\n",
    "    print(term)"
   ]
  },
  {
   "cell_type": "code",
   "execution_count": null,
   "id": "4cfd1f2f-0d09-47f6-9f5a-c30116cd1204",
   "metadata": {},
   "outputs": [],
   "source": [
    "# Solve the Problem\n",
    "model.setObjective(objective, sense=\"minimize\")\n",
    "\n",
    "#from pyscipopt.recipe.nonlinear import set_nonlinear_objective\n",
    "\n",
    "#set_nonlinear_objective(model, objective)"
   ]
  }
 ],
 "metadata": {
  "kernelspec": {
   "display_name": "Portfolio Optimization",
   "language": "python",
   "name": "portopt"
  },
  "language_info": {
   "codemirror_mode": {
    "name": "ipython",
    "version": 3
   },
   "file_extension": ".py",
   "mimetype": "text/x-python",
   "name": "python",
   "nbconvert_exporter": "python",
   "pygments_lexer": "ipython3",
   "version": "3.12.7"
  }
 },
 "nbformat": 4,
 "nbformat_minor": 5
}
