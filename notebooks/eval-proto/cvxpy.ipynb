{
 "cells": [
  {
   "cell_type": "markdown",
   "id": "9d950658-74d6-43d4-8229-1cd99070d7f8",
   "metadata": {},
   "source": [
    "This notebook is was used to figure out how to solve the portfolio optimization problem using a LP/MIP/QP solver. This notebook contains a prototype that attempts to use [CVXPY](https://www.cvxpy.org) to solve the problem.\n",
    "\n",
    "The problem requires support for:\n",
    "* Quadratic programming (QP) - supports minimizing a quadratic objective function (i.e., sum of the squared difference)\n",
    "* Mixed-integer programming - supports integer variables (i.e., number of funds)\n",
    "* Linear constraints - support constraining overall allocation to 100% and the allocation to any specific asset class or fund to be less than 100%\n",
    "\n",
    "Because of these requirements, the solver needs to support mixed-integer quadratic programming (MIQP).\n",
    "\n",
    "The CVXPY library supports MIQP when the SCIP solver is used."
   ]
  },
  {
   "cell_type": "code",
   "execution_count": 81,
   "id": "71905a79-176a-43fe-9e7e-8a735d5540e9",
   "metadata": {},
   "outputs": [],
   "source": [
    "# import required packaages\n",
    "import pandas as pd\n",
    "import cvxpy as cp\n",
    "import numpy as np"
   ]
  },
  {
   "cell_type": "code",
   "execution_count": null,
   "id": "2cc8f2cc-c267-420b-93eb-0d160695ed21",
   "metadata": {},
   "outputs": [],
   "source": [
    "file_path = \"../data/exposure_matrix_accounts.csv\"\n",
    "\n",
    "# Read only the header row\n",
    "headers = pd.read_csv(file_path, nrows=0).columns.tolist()\n",
    "\n",
    "# Define the default dtype for all columns except 'Ticker'\n",
    "dtype_dict = {col: float for col in headers if col not in ['Ticker', 'Description', 'Name', 'Accounts']}\n",
    "\n",
    "# Read the full file with the dynamically created dtype and converter\n",
    "data = pd.read_csv(\n",
    "    file_path,\n",
    "    dtype=dtype_dict,  # Set all columns to float except Ticker\n",
    "    converters={'Ticker': lambda x: x.strip(),\n",
    "                'Name': lambda x: x.strip(),\n",
    "                'Description': lambda x: x.strip(),\n",
    "                'Accounts': lambda x: [item.strip() for item in x.split(\",\")]\n",
    "               }  # Strip whitespace from text columns\n",
    ")\n",
    "data.set_index('Ticker', inplace=True)\n",
    "data.loc['BNDX']\n",
    "data.loc['BNDX', 'Intl Bonds']\n",
    "data.loc[:, 'Intl Bonds']\n",
    "#data.loc['BNDX','Accounts']"
   ]
  },
  {
   "cell_type": "code",
   "execution_count": null,
   "id": "7f563b59-2cfb-41fd-afaf-4c43019e7399",
   "metadata": {},
   "outputs": [],
   "source": [
    "# drop Name and Description columns\n",
    "drop_columns = data.columns.intersection(['Name', 'Description'])\n",
    "data = data.drop(columns=drop_columns)\n",
    "data"
   ]
  },
  {
   "cell_type": "code",
   "execution_count": null,
   "id": "e78b313e-40ff-4ae4-b074-12254e10b6fd",
   "metadata": {},
   "outputs": [],
   "source": [
    "# get a list of the account names\n",
    "if 'Accounts' in data.columns:\n",
    "    accounts = data['Accounts'].explode().unique().tolist()\n",
    "else:\n",
    "    accounts = None\n",
    "\n",
    "print(accounts)"
   ]
  },
  {
   "cell_type": "code",
   "execution_count": null,
   "id": "b747aae6-aad0-4c67-943f-3aee9fe7f423",
   "metadata": {},
   "outputs": [],
   "source": [
    "if 'Accounts' in data.columns:\n",
    "    # Iterate through the dataframe rows\n",
    "    from collections import defaultdict\n",
    "    account_funds = defaultdict(list)\n",
    "    for ticker, row in data.iterrows():\n",
    "        # retrive account list for this row\n",
    "        accounts = row['Accounts']\n",
    "\n",
    "        # process targets\n",
    "        if (ticker.upper() == 'TARGETS'):\n",
    "            print(accounts)\n",
    "        else: # process fund ticker\n",
    "            # Map each account to the corresponding fund\n",
    "            for account in accounts:\n",
    "                account_funds[account.strip()].append(ticker)\n",
    "\n",
    "    # drop Accounts columns\n",
    "    # data = data.drop(columns=['Accounts'])\n",
    "else:\n",
    "    account_funds = { 'Account': data.index }\n",
    "\n",
    "account_funds"
   ]
  },
  {
   "cell_type": "code",
   "execution_count": null,
   "id": "90c937b3",
   "metadata": {},
   "outputs": [],
   "source": [
    "# Extract fund_matrix (all rows except the footer and first column)\n",
    "account_name = list(account_funds.keys())[2]\n",
    "\n",
    "if accounts is None:\n",
    "    fund_matrix = data.query(\"index != 'Targets'\")\n",
    "else:\n",
    "    # extract fund_matrix for a specific account\n",
    "    fund_matrix = data[data['Accounts'].apply(lambda x: account_name in x) & (data.index != 'Targets')]    \n",
    "\n",
    "drop_columns = fund_matrix.columns.intersection(['Name', 'Description','Accounts'])\n",
    "fund_matrix = fund_matrix.drop(columns=drop_columns)\n",
    "\n",
    "fund_matrix"
   ]
  },
  {
   "cell_type": "code",
   "execution_count": null,
   "id": "dbff3777-243c-4dc7-a9dd-49707c4473e7",
   "metadata": {},
   "outputs": [],
   "source": [
    "# Extract desired_allocations (footer row, excluding the first column)\n",
    "if accounts is None:\n",
    "    target_allocations = data.loc['Targets']\n",
    "else:\n",
    "    # extract fund_matrix for a specific account\n",
    "    target_allocations = data[data['Accounts'].apply(lambda x: account_name in x) & (data.index == 'Targets')]    \n",
    "\n",
    "drop_columns = target_allocations.columns.intersection(['Name', 'Description','Accounts'])\n",
    "target_allocations = target_allocations.drop(columns=drop_columns)\n",
    "\n",
    "target_allocations"
   ]
  },
  {
   "cell_type": "code",
   "execution_count": null,
   "id": "fdc622ff-a7f9-409d-bee4-236d052ecaaf",
   "metadata": {},
   "outputs": [],
   "source": [
    "# Extract fund tickers (first column, excluding the footer row)\n",
    "# fund_tickers = data.iloc[:-1, 0].values\n",
    "fund_tickers = fund_matrix.index\n",
    "fund_tickers"
   ]
  },
  {
   "cell_type": "code",
   "execution_count": null,
   "id": "f583d34a-568b-4c27-8f30-1a8c2e8cf187",
   "metadata": {},
   "outputs": [],
   "source": [
    "# Extract asset classes (header row, excluding the first column)\n",
    "# asset_classes = data.columns[1:]\n",
    "asset_classes = data.columns\n",
    "asset_classes"
   ]
  },
  {
   "cell_type": "code",
   "execution_count": null,
   "id": "c59a55cb-5e24-4839-996b-955ede44130a",
   "metadata": {},
   "outputs": [],
   "source": [
    "# Define the optimization problem\n",
    "num_funds = fund_matrix.shape[0]\n",
    "x = cp.Variable(num_funds)  # Allocation to each fund\n",
    "z = cp.Variable(num_funds, boolean=True)  # Binary selection variables\n",
    "\n",
    "# Resulting portfolio allocation\n",
    "portfolio_allocation = fund_matrix.values.T @ x\n",
    "\n",
    "sparsity_weight = 0.01\n",
    "max_funds = 7\n",
    "\n",
    "# Objective: Minimize the squared difference between actual and desired allocations\n",
    "objective = cp.Minimize(\n",
    "    cp.sum_squares(portfolio_allocation - target_allocations)\n",
    "    + sparsity_weight * cp.sum(z) # Penalize the number of funds\n",
    ")\n",
    "\n",
    "# Constraints\n",
    "constraints = [\n",
    "    cp.sum(x) == 1,  # Allocations must sum to 100%\n",
    "    x >= 0,          # No negative allocation\n",
    "    x <= 1,          # Maximum allocation per fund\n",
    "    x <= z,          # Link x and z (if z=0, x=0)\n",
    "    cp.sum(z) <= max_funds,  # Number of funds used is <= max_funds\n",
    "]\n",
    "\n",
    "# Solve the problem\n",
    "problem = cp.Problem(objective, constraints)\n",
    "problem.solve()\n",
    "print(f\"Solver status: {problem.status}\")"
   ]
  },
  {
   "cell_type": "code",
   "execution_count": null,
   "id": "998b9c75",
   "metadata": {},
   "outputs": [],
   "source": [
    "# Output results\n",
    "print(\"Optimal Fund Allocations:\")\n",
    "print(f\"{\"Ticker\":10}{\"Allocation\":>10}\")\n",
    "print(f\"{\"========\":<10}{\"==========\":>10}\")\n",
    "for ticker, allocation in zip(fund_tickers, x.value):\n",
    "    print(f\"{ticker:<10}{allocation:10.2%}\")\n",
    "\n",
    "print(\"\\nResulting Asset Class Allocations:\")\n",
    "print(f\"{\"Asset Class\":20}{\"Actual\":>10}{\"Target\":>10}{\"Diff\":>10}\")\n",
    "for asset_class, actual, target in zip(asset_classes, portfolio_allocation.value, target_allocations.loc['Targets']):\n",
    "    diff = actual - target\n",
    "    print(f\"{asset_class:20}{actual:10.2%}{target:10.2%}{diff:10.2%}\")\n",
    "\n",
    "print(\"\\nObjective Value (total deviation):\", problem.value)"
   ]
  }
 ],
 "metadata": {
  "kernelspec": {
   "display_name": "Portfolio Optimization",
   "language": "python",
   "name": "portopt"
  },
  "language_info": {
   "codemirror_mode": {
    "name": "ipython",
    "version": 3
   },
   "file_extension": ".py",
   "mimetype": "text/x-python",
   "name": "python",
   "nbconvert_exporter": "python",
   "pygments_lexer": "ipython3",
   "version": "3.12.7"
  }
 },
 "nbformat": 4,
 "nbformat_minor": 5
}
