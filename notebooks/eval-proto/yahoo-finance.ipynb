{
 "cells": [
  {
   "cell_type": "code",
   "execution_count": null,
   "id": "5006df98-e066-40d9-9dd0-7b78b0f95a44",
   "metadata": {},
   "outputs": [],
   "source": [
    "import yfinance as yf\n",
    "import warnings\n",
    "from contextlib import redirect_stderr\n",
    "import os\n",
    "\n",
    "# Specify the ticker for the ETF or mutual fund\n",
    "ticker = \"WSCGR\"  # Example: Vanguard 500 Index Fund Admiral Shares\n",
    "#ticker = \"VOO\"  # Example: Vanguard 500 Index Fund Admiral Shares\n",
    "\n",
    "# Get the ticker data\n",
    "fund = yf.Ticker(ticker)\n",
    "info = None\n",
    "history = None\n",
    "\n",
    "\n",
    "with open(os.devnull, \"w\") as fnull, redirect_stderr(fnull): #, warnings.catch_warnings():\n",
    "    print()\n",
    "    #warnings.simplefilter(\"ignore\")\n",
    "#    fund = yf.Ticker(ticker)\n",
    "#    info = fund.info\n",
    "#    history = fund.history(period=\"1d\")\n",
    "\n",
    "#print(history)\n",
    "#print(history.empty)\n",
    "\n",
    "price = fund.info.get(\"regularMarketPrice\", None)\n",
    "print(price)"
   ]
  },
  {
   "cell_type": "code",
   "execution_count": null,
   "id": "4969f5c3-f416-4aa4-a7fd-41014d7318f8",
   "metadata": {},
   "outputs": [],
   "source": [
    "import yfinance as yf\n",
    "\n",
    "# Specify the ticker for the ETF or mutual fund\n",
    "ticker = \"WSCGR\"  # Example: Vanguard 500 Index Fund Admiral Shares\n",
    "\n",
    "# Get the ticker data\n",
    "fund = yf.Ticker(ticker)\n",
    "\n",
    "# Retrieve the most recent price (current price or bid price if real-time data available)\n",
    "current_price = fund.info.get(\"regularMarketPrice\", None)\n",
    "\n",
    "if current_price is not None:\n",
    "    print(f\"The most recent price for {ticker} is ${current_price:.2f}\")\n",
    "else:\n",
    "    print(f\"Price data for {ticker} is unavailable at the moment.\")"
   ]
  },
  {
   "cell_type": "code",
   "execution_count": null,
   "id": "6d9f5698-5f8d-4b0a-bf83-72675175e797",
   "metadata": {},
   "outputs": [],
   "source": [
    "import yfinance as yf\n",
    "\n",
    "# Specify the ticker for the ETF or mutual fund\n",
    "ticker = \"VEVYX\"  # Vanguard 500 Index Fund Admiral Shares\n",
    "\n",
    "# Fetch the 1-day history\n",
    "fund = yf.Ticker(ticker)\n",
    "history = fund.history(period=\"1d\", interval=\"1m\")  # Minute-level data for the day\n",
    "\n",
    "# Get the last price\n",
    "if not history.empty:\n",
    "    last_price = history[\"Close\"].iloc[-1]  # Last \"Close\" price of the fetched data\n",
    "    print(f\"The most recent price for {ticker} is ${last_price:.2f}\")\n",
    "else:\n",
    "    print(f\"No historical data available for {ticker}.\")"
   ]
  },
  {
   "cell_type": "code",
   "execution_count": null,
   "id": "fb909ce2-001f-4d3f-b59f-38b194085d15",
   "metadata": {},
   "outputs": [],
   "source": [
    "import yfinance as yf\n",
    "\n",
    "# Specify the ticker for the ETF or mutual fund\n",
    "ticker = \"WSCGR\" # Example: Vanguard 500 Index Fund Admiral Shares\n",
    "\n",
    "# Get the ticker data\n",
    "fund = yf.Ticker(ticker)\n",
    "\n",
    "if (ticker.upper().endswith('X')): # mutual funds end with 'X'\n",
    "    history_period = \"1mo\"\n",
    "else:\n",
    "    history_period = \"1d\"\n",
    "\n",
    "# Retrieve the most recent price (current price or bid price if real-time data available)\n",
    "price = fund.info.get(\"regularMarketPrice\", None)\n",
    "\n",
    "# Get previous close if real-time price is not available\n",
    "if (price is None):\n",
    "    history = fund.history(period=history_period, interval=\"1m\")  # Minute-level data for the day\n",
    "    if not history.empty:\n",
    "        price = history[\"Close\"].iloc[-1]  # Last \"Close\" price of the fetched data\n",
    "    else:\n",
    "        price = price = fund.info.get(\"regularMarketPreviousClose\", None)\n",
    "\n",
    "print(f\"The most recent price for {ticker} is ${price:.2f}\")"
   ]
  },
  {
   "cell_type": "code",
   "execution_count": null,
   "id": "7c53c592-6590-488b-93f2-250f8b600d8e",
   "metadata": {},
   "outputs": [],
   "source": [
    "for key in fund.info:\n",
    "    print(key)"
   ]
  },
  {
   "cell_type": "code",
   "execution_count": null,
   "id": "32729d7e-e5a6-4847-a4b8-5b2ec90b4b7f",
   "metadata": {},
   "outputs": [],
   "source": [
    "print(fund.info['regularMarketPreviousClose'])"
   ]
  },
  {
   "cell_type": "code",
   "execution_count": null,
   "id": "90f3fcb0-2b32-48e5-b8c8-6ba6f053d8eb",
   "metadata": {},
   "outputs": [],
   "source": [
    "print(fund.info['longName'])"
   ]
  }
 ],
 "metadata": {
  "kernelspec": {
   "display_name": "Portfolio Optimization",
   "language": "python",
   "name": "portopt"
  },
  "language_info": {
   "codemirror_mode": {
    "name": "ipython",
    "version": 3
   },
   "file_extension": ".py",
   "mimetype": "text/x-python",
   "name": "python",
   "nbconvert_exporter": "python",
   "pygments_lexer": "ipython3",
   "version": "3.13.1"
  }
 },
 "nbformat": 4,
 "nbformat_minor": 5
}
