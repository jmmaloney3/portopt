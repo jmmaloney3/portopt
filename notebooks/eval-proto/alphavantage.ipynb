{
 "cells": [
  {
   "cell_type": "code",
   "execution_count": 1,
   "metadata": {},
   "outputs": [],
   "source": [
    "# import required libraries\n",
    "import requests\n",
    "import pandas as pd\n",
    "\n",
    "# alpha_vantage library does not yet support ETF Profile & Holdings API\n",
    "# so we need to use the following API to get the ETF profile and holdings\n",
    "# https://www.alphavantage.co/documentation/etf-profile-and-holdings\n"
   ]
  },
  {
   "cell_type": "code",
   "execution_count": 3,
   "metadata": {},
   "outputs": [],
   "source": [
    "import yaml\n",
    "\n",
    "def get_alpha_vantage_api_key(config_file='config.yaml'):\n",
    "    \"\"\"\n",
    "    Reads the Alpha Vantage API key from a YAML configuration file.\n",
    "\n",
    "    Args:\n",
    "        config_file (str): Path to the YAML configuration file.\n",
    "\n",
    "    Returns:\n",
    "        str: The Alpha Vantage API key.\n",
    "\n",
    "    Raises:\n",
    "        KeyError: If the key is not found in the YAML file.\n",
    "        FileNotFoundError: If the config file does not exist.\n",
    "    \"\"\"\n",
    "    try:\n",
    "        with open(config_file, 'r') as file:\n",
    "            config = yaml.safe_load(file)\n",
    "            return config['alpha_vantage']['api_key']\n",
    "    except FileNotFoundError:\n",
    "        raise FileNotFoundError(f\"Configuration file {config_file} not found.\")\n",
    "    except KeyError:\n",
    "        raise KeyError(\"API key not found in the configuration file. Ensure the key exists under 'alpha_vantage.api_key'.\")\n",
    "\n"
   ]
  },
  {
   "cell_type": "code",
   "execution_count": 6,
   "metadata": {},
   "outputs": [],
   "source": [
    "api_key = None\n",
    "try:\n",
    "    api_key = get_alpha_vantage_api_key(config_file='../config.yml')\n",
    "except Exception as e:\n",
    "    print(f\"Error: {e}\")"
   ]
  },
  {
   "cell_type": "code",
   "execution_count": 13,
   "metadata": {},
   "outputs": [],
   "source": [
    "import requests\n",
    "import pandas as pd\n",
    "\n",
    "def get_etf_holdings(api_key, etf_symbol):\n",
    "    \"\"\"\n",
    "    Retrieves ETF holdings from Alpha Vantage.\n",
    "\n",
    "    Args:\n",
    "        api_key (str): Your Alpha Vantage API key.\n",
    "        etf_symbol (str): The ticker symbol for the ETF.\n",
    "\n",
    "    Returns:\n",
    "        pd.DataFrame: A DataFrame containing the ETF holdings, or an empty DataFrame if an error occurs.\n",
    "    \"\"\"\n",
    "    url = f\"https://www.alphavantage.co/query\"\n",
    "    params = {\n",
    "        \"function\": \"ETF_PROFILE\",\n",
    "        \"symbol\": etf_symbol,\n",
    "        \"apikey\": api_key\n",
    "    }\n",
    "\n",
    "    try:\n",
    "        response = requests.get(url, params=params)\n",
    "        response.raise_for_status()\n",
    "        data = response.json()\n",
    "\n",
    "        if \"holdings\" in data:\n",
    "            return pd.DataFrame(data[\"holdings\"])\n",
    "        elif \"Note\" in data:\n",
    "            print(f\"API Note: {data['Note']}\")\n",
    "        elif \"Error Message\" in data:\n",
    "            print(f\"API Error: {data['Error Message']}\")\n",
    "        else:\n",
    "            print(\"Unexpected API response format.\")\n",
    "\n",
    "    except requests.exceptions.RequestException as e:\n",
    "        print(f\"HTTP Request failed: {e}\")\n",
    "    except ValueError as e:\n",
    "        print(f\"Error decoding JSON: {e}\")\n",
    "\n",
    "    # Return an empty DataFrame if any error occurs\n",
    "    return pd.DataFrame()\n"
   ]
  },
  {
   "cell_type": "code",
   "execution_count": null,
   "metadata": {},
   "outputs": [],
   "source": [
    "# Get the ETF holdings for SPY\n",
    "if __name__ == \"__main__\":\n",
    "    etf_symbol = \"SPY\"\n",
    "    holdings = get_etf_holdings(api_key, etf_symbol)\n",
    "\n",
    "    if not holdings.empty:\n",
    "        print(holdings.head())\n",
    "    else:\n",
    "        print(\"No holdings data retrieved.\")"
   ]
  }
 ],
 "metadata": {
  "kernelspec": {
   "display_name": "Portfolio Optimization",
   "language": "python",
   "name": "portopt"
  },
  "language_info": {
   "codemirror_mode": {
    "name": "ipython",
    "version": 3
   },
   "file_extension": ".py",
   "mimetype": "text/x-python",
   "name": "python",
   "nbconvert_exporter": "python",
   "pygments_lexer": "ipython3",
   "version": "3.12.7"
  }
 },
 "nbformat": 4,
 "nbformat_minor": 2
}
