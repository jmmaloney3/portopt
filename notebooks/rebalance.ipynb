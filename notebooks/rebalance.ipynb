{
 "cells": [
  {
   "cell_type": "code",
   "execution_count": 1,
   "metadata": {},
   "outputs": [],
   "source": [
    "# import functions from utils and porteval\n",
    "import sys\n",
    "import os\n",
    "import pandas as pd\n",
    "\n",
    "from portopt.portfolio import Portfolio\n",
    "\n",
    "from portopt.config import load_config\n",
    "from portopt.utils import write_table"
   ]
  },
  {
   "cell_type": "code",
   "execution_count": null,
   "metadata": {},
   "outputs": [],
   "source": [
    "# required file paths\n",
    "portfolio_dir = \"../data/portfolio\"\n",
    "config_file = os.path.join(portfolio_dir, \"config.yml\")\n",
    "holdings_files = os.path.join(portfolio_dir, \"holdings\")\n",
    "\n",
    "# to reduce amount of price data that needs to be downloaded, we only use the first holdings file\n",
    "# comment this out to use all holdings files\n",
    "num_files = 1\n",
    "holdings_files = [\n",
    "    os.path.join(holdings_files, f) \n",
    "    for f in os.listdir(holdings_files) \n",
    "    if os.path.isfile(os.path.join(holdings_files, f)) and f.endswith('.csv')\n",
    "][:num_files]\n",
    "\n",
    "factor_weights_file = os.path.join(portfolio_dir, \"asset_class_weights_matrix.csv\")\n",
    "\n",
    "print(\"portfolio_dir:\", portfolio_dir)\n",
    "print(\"config_file:\", config_file)\n",
    "print(\"factor_weights_file:\", factor_weights_file)\n",
    "print(\"holdings_files:\", holdings_files)"
   ]
  },
  {
   "cell_type": "code",
   "execution_count": 3,
   "metadata": {},
   "outputs": [],
   "source": [
    "# load config\n",
    "config = load_config(config_file)\n",
    "import pprint\n",
    "#pprint.pprint(config)"
   ]
  },
  {
   "cell_type": "code",
   "execution_count": 4,
   "metadata": {},
   "outputs": [],
   "source": [
    "# define column formats for write_table function\n",
    "column_formats = {\n",
    "    'Ticker': {'width': 14},\n",
    "    'Level_0': {'width': 14},\n",
    "    'Level_1': {'width': 14},\n",
    "    'Level_2': {'width': 14},\n",
    "    'Level_3': {'width': 14},\n",
    "    'Level_4': {'width': 14},\n",
    "    'Level_5': {'width': 14},\n",
    "    'Level_6': {'width': 14},\n",
    "    'Factor': {'width': 24},\n",
    "    'Weight': {'width': 14, 'decimal': 3, 'type':'%'},\n",
    "    'Account': {'width': 25, 'align': '<'},\n",
    "    'Name': {'width': 30, 'align': '<'},\n",
    "    'Short Name': {'width': 20, 'align': '<'},\n",
    "    'Institution': {'width': 14},\n",
    "    'Type': {'width': 14},\n",
    "    'Category': {'width': 14},\n",
    "    'Family': {'width': 14},\n",
    "    'Owner': {'width': 14},\n",
    "    'Quantity': {'width': 10, 'decimal': 3},\n",
    "    'Original Ticker': {'width': 14},\n",
    "    'Original Quantity': {'width': 10, 'decimal': 3},\n",
    "    'Price': {'width': 16, 'decimal': 2, 'prefix': '$'},\n",
    "    'Total Value': {'width': 16, 'decimal': 2, 'prefix': '$'},\n",
    "    'Original Value': {'width': 16, 'decimal': 2, 'prefix': '$'},\n",
    "    'New Value': {'width': 16, 'decimal': 2, 'prefix': '$'},\n",
    "    'Value Diff': {'width': 16, 'decimal': 2, 'prefix': '$'},\n",
    "    'Allocation': {'width': 16, 'decimal': 2, 'type':'%'},\n",
    "    'Original Allocation': {'width': 16, 'decimal': 2, 'type':'%'},\n",
    "    'New Allocation': {'width': 16, 'decimal': 2, 'type':'%'},\n",
    "    'Target Allocation': {'width': 16, 'decimal': 2, 'type':'%'},\n",
    "    'Allocation Diff': {'width': 16, 'decimal': 2, 'type':'%'}\n",
    "}\n",
    "#column_formats"
   ]
  },
  {
   "cell_type": "code",
   "execution_count": null,
   "metadata": {},
   "outputs": [],
   "source": [
    "# create portfolio object\n",
    "port = Portfolio(config, factor_weights_file, holdings_files)\n",
    "port"
   ]
  },
  {
   "cell_type": "code",
   "execution_count": null,
   "metadata": {},
   "outputs": [],
   "source": [
    "write_table(port.getFactors(), column_formats)"
   ]
  },
  {
   "cell_type": "code",
   "execution_count": null,
   "metadata": {},
   "outputs": [],
   "source": [
    "write_table(port.getFactorWeights(), column_formats)"
   ]
  },
  {
   "cell_type": "code",
   "execution_count": null,
   "metadata": {},
   "outputs": [],
   "source": [
    "# get valid account for testing\n",
    "# get all available accounts\n",
    "all_tickers = port.getAccountTickers()\n",
    "available_accounts = all_tickers.index.get_level_values('Account').unique()\n",
    "\n",
    "# Print all available accounts\n",
    "print(\"Available accounts:\")\n",
    "for account in available_accounts:\n",
    "    print(f\"  - {account}\")\n",
    "\n",
    "# Get the first account name for testing\n",
    "test_account = available_accounts[0]\n",
    "print(f\"\\nUsing account for test: {test_account}\")\n",
    "\n",
    "# get account tickers\n",
    "account_tickers = port.getAccountTickers(accounts=[test_account])\n",
    "account_tickers = sorted(account_tickers.index.get_level_values('Ticker').unique().tolist())\n",
    "\n",
    "# print out the account tickers\n",
    "print(f\"Account tickers for {test_account}:\")\n",
    "for ticker in account_tickers:\n",
    "    print(f\"  - {ticker}\")"
   ]
  },
  {
   "cell_type": "code",
   "execution_count": null,
   "metadata": {},
   "outputs": [],
   "source": [
    "# create a target allocation for the portfolio\n",
    "# Reduce Alt-Crypto, Alt-Gold, and Equity-US by 5 percentage points\n",
    "results = port.adjust_factor_allocations(\n",
    "    source_filter={'Level_0': ['Alt', 'Equity'], 'Level_1': ['Crypto', 'Gold', 'US']},\n",
    "    dest_filter={'Level_0': ['Fixed Income']},\n",
    "    transfer=0.05,  # 5 percentage points\n",
    "    verbose=True\n",
    ")\n",
    "write_table(results, column_formats)\n",
    "\n",
    "total_orig_alloc = results['Original Allocation'].sum()\n",
    "total_new_alloc = results['New Allocation'].sum()\n",
    "print(f\"Total original allocation: {total_orig_alloc:,.2%}\")\n",
    "print(f\"Total new allocation: {total_new_alloc:,.2%}\")\n",
    "\n",
    "target_factor_allocations = results['New Allocation']\n",
    "write_table(target_factor_allocations, column_formats)"
   ]
  },
  {
   "cell_type": "code",
   "execution_count": null,
   "metadata": {},
   "outputs": [],
   "source": [
    "# get the cononical factor weights matrix\n",
    "factor_weights_matrix = port._create_factor_weights_matrix(tickers=account_tickers,\n",
    "                                                           factors=target_factor_allocations.index,\n",
    "                                                           verbose=True)\n",
    "\n",
    "factor_weights_column_formats = {\n",
    "    'Factor': {'width': 24}\n",
    "}\n",
    "for column in factor_weights_matrix.columns:\n",
    "    factor_weights_column_formats[column] = {'width': 7, 'decimal': 2, 'type': '%'}\n",
    "\n",
    "#write_table(factor_weights_matrix, factor_weights_column_formats)"
   ]
  },
  {
   "cell_type": "code",
   "execution_count": null,
   "metadata": {},
   "outputs": [],
   "source": [
    "# get variable vectors\n",
    "variables = port._create_variable_vectors(tickers=account_tickers,\n",
    "                                          account='my_account',\n",
    "                                          verbose=True)\n",
    "#variables"
   ]
  },
  {
   "cell_type": "code",
   "execution_count": null,
   "metadata": {},
   "outputs": [],
   "source": [
    "# create target allocations vector\n",
    "# results.loc['Bogus Factor'] = {\n",
    "#     'Original Allocation': 0.0,\n",
    "#     'New Allocation': 0.0\n",
    "# }\n",
    "# print(results)\n",
    "\n",
    "# calculate account proportion of the total portfolio\n",
    "# Get account's current allocation as percentage of total portfolio\n",
    "account_metrics = port.getMetrics('Account', portfolio_allocation=True)\n",
    "account_proportion = account_metrics.loc[test_account, 'Allocation']\n",
    "print(f\"Account proportion: {account_proportion:,.2%}\")\n",
    "\n",
    "target_allocations = port._create_target_factor_allocations_vector(\n",
    "    target_allocations=target_factor_allocations,\n",
    "    account_proportion=account_proportion,\n",
    "    verbose=True\n",
    ")\n",
    "#target_allocations"
   ]
  },
  {
   "cell_type": "code",
   "execution_count": null,
   "metadata": {},
   "outputs": [],
   "source": [
    "# Now you can use this account to create optimization components\n",
    "account_optimization_components = port._create_account_optimization_components(\n",
    "    account=test_account,\n",
    "    target_factor_allocations=results['New Allocation'],\n",
    "    verbose=True\n",
    ")\n",
    "account_optimization_components"
   ]
  },
  {
   "cell_type": "code",
   "execution_count": 14,
   "metadata": {},
   "outputs": [],
   "source": [
    "ticker_results, factor_results = port.rebalance(results['New Allocation'],\n",
    "                                                turnover_penalty=0,\n",
    "                                                complexity_penalty=0,\n",
    "                                                min_ticker_alloc=0,\n",
    "                                                verbose=False)\n"
   ]
  },
  {
   "cell_type": "code",
   "execution_count": null,
   "metadata": {},
   "outputs": [],
   "source": [
    "\n",
    "write_table(ticker_results, column_formats)\n",
    "total_alloc = ticker_results['New Allocation'].sum()\n",
    "print(f\"Total allocation: {total_alloc:,.2%}\")\n",
    "\n",
    "print()\n",
    "\n",
    "write_table(factor_results, column_formats)\n",
    "total_alloc = factor_results['New Allocation'].sum()\n",
    "print(f\"Total allocation: {total_alloc:,.2%}\")"
   ]
  },
  {
   "cell_type": "code",
   "execution_count": null,
   "metadata": {},
   "outputs": [],
   "source": [
    "ticker_results, factor_results = port.rebalance_portfolio(results['New Allocation'],\n",
    "                                                turnover_penalty=0,\n",
    "                                                complexity_penalty=0,\n",
    "                                                account_align_penalty=1,\n",
    "                                                min_ticker_alloc=0,\n",
    "                                                verbose=True)"
   ]
  },
  {
   "cell_type": "code",
   "execution_count": null,
   "metadata": {},
   "outputs": [],
   "source": [
    "ticker_results_with_totals = ticker_results.copy()\n",
    "ticker_results_with_totals.loc['ZZZ-TOTAL'] = ticker_results_with_totals.sum()\n",
    "# Filter to only include rows where both Original and New allocations are non-zero\n",
    "ticker_results_with_totals = ticker_results_with_totals[\n",
    "    (ticker_results_with_totals['Original Allocation'] != 0) | \n",
    "    (ticker_results_with_totals['New Allocation'] != 0)\n",
    "]\n",
    "\n",
    "write_table(ticker_results_with_totals, column_formats)\n",
    "\n",
    "print()\n",
    "\n",
    "factor_results_with_totals = factor_results.copy()\n",
    "factor_results_with_totals.loc['ZZZ-TOTAL'] = factor_results_with_totals.sum()\n",
    "# Filter to only include rows where both Original and New allocations are non-zero\n",
    "factor_results_with_totals = factor_results_with_totals[\n",
    "    (factor_results_with_totals['Original Allocation'] != 0) | \n",
    "    (factor_results_with_totals['New Allocation'] != 0)\n",
    "]\n",
    "write_table(factor_results_with_totals, column_formats)"
   ]
  }
 ],
 "metadata": {
  "kernelspec": {
   "display_name": "Portfolio Optimization",
   "language": "python",
   "name": "portopt"
  },
  "language_info": {
   "codemirror_mode": {
    "name": "ipython",
    "version": 3
   },
   "file_extension": ".py",
   "mimetype": "text/x-python",
   "name": "python",
   "nbconvert_exporter": "python",
   "pygments_lexer": "ipython3",
   "version": "3.12.7"
  }
 },
 "nbformat": 4,
 "nbformat_minor": 2
}
