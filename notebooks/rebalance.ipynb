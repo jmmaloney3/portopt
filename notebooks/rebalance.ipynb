{
 "cells": [
  {
   "cell_type": "code",
   "execution_count": 1,
   "metadata": {},
   "outputs": [],
   "source": [
    "# import functions from utils and porteval\n",
    "import sys\n",
    "import os\n",
    "import pandas as pd\n",
    "\n",
    "from portopt.portfolio import Portfolio\n",
    "\n",
    "from portopt.config import load_config\n",
    "from portopt.utils import write_table"
   ]
  },
  {
   "cell_type": "code",
   "execution_count": null,
   "metadata": {},
   "outputs": [],
   "source": [
    "# required file paths\n",
    "portfolio_dir = \"../data/portfolio\"\n",
    "config_file = os.path.join(portfolio_dir, \"config.yml\")\n",
    "holdings_files = os.path.join(portfolio_dir, \"holdings\")\n",
    "\n",
    "# to reduce amount of price data that needs to be downloaded, we only use the first holdings file\n",
    "# comment this out to use all holdings files\n",
    "holdings_files = next(os.path.join(holdings_files, f) for f in os.listdir(holdings_files) if os.path.isfile(os.path.join(holdings_files, f)))\n",
    "\n",
    "factor_weights_file = os.path.join(portfolio_dir, \"asset_class_weights_matrix.csv\")\n",
    "\n",
    "print(\"portfolio_dir:\", portfolio_dir)\n",
    "print(\"config_file:\", config_file)\n",
    "print(\"factor_weights_file:\", factor_weights_file)\n",
    "print(\"holdings_files:\", holdings_files)"
   ]
  },
  {
   "cell_type": "code",
   "execution_count": null,
   "metadata": {},
   "outputs": [],
   "source": [
    "# load config\n",
    "config = load_config(config_file)\n",
    "import pprint\n",
    "pprint.pprint(config)"
   ]
  },
  {
   "cell_type": "code",
   "execution_count": null,
   "metadata": {},
   "outputs": [],
   "source": [
    "# define column formats for write_table function\n",
    "column_formats = {\n",
    "    'Ticker': {'width': 14},\n",
    "    'Level_0': {'width': 14},\n",
    "    'Level_1': {'width': 14},\n",
    "    'Level_2': {'width': 14},\n",
    "    'Level_3': {'width': 14},\n",
    "    'Level_4': {'width': 14},\n",
    "    'Level_5': {'width': 14},\n",
    "    'Level_6': {'width': 14},\n",
    "    'Factor': {'width': 24},\n",
    "    'Weight': {'width': 14, 'decimal': 3, 'type':'%'},\n",
    "    'Account': {'width': 25, 'align': '<'},\n",
    "    'Name': {'width': 30, 'align': '<'},\n",
    "    'Short Name': {'width': 20, 'align': '<'},\n",
    "    'Institution': {'width': 14},\n",
    "    'Type': {'width': 14},\n",
    "    'Category': {'width': 14},\n",
    "    'Family': {'width': 14},\n",
    "    'Owner': {'width': 14},\n",
    "    'Quantity': {'width': 10, 'decimal': 3},\n",
    "    'Original Ticker': {'width': 14},\n",
    "    'Original Quantity': {'width': 10, 'decimal': 3},\n",
    "    'Price': {'width': 16, 'decimal': 2, 'prefix': '$'},\n",
    "    'Total Value': {'width': 16, 'decimal': 2, 'prefix': '$'},\n",
    "    'Original Value': {'width': 16, 'decimal': 2, 'prefix': '$'},\n",
    "    'New Value': {'width': 16, 'decimal': 2, 'prefix': '$'},\n",
    "    'Value Diff': {'width': 16, 'decimal': 2, 'prefix': '$'},\n",
    "    'Allocation': {'width': 16, 'decimal': 2, 'type':'%'},\n",
    "    'Original Allocation': {'width': 16, 'decimal': 2, 'type':'%'},\n",
    "    'New Allocation': {'width': 16, 'decimal': 2, 'type':'%'},\n",
    "    'Target Allocation': {'width': 16, 'decimal': 2, 'type':'%'},\n",
    "    'Allocation Diff': {'width': 16, 'decimal': 2, 'type':'%'}\n",
    "}\n",
    "column_formats"
   ]
  },
  {
   "cell_type": "code",
   "execution_count": null,
   "metadata": {},
   "outputs": [],
   "source": [
    "# create portfolio object\n",
    "port = Portfolio(config, factor_weights_file, holdings_files)\n",
    "port"
   ]
  },
  {
   "cell_type": "code",
   "execution_count": null,
   "metadata": {},
   "outputs": [],
   "source": [
    "write_table(port.getFactors(), column_formats)"
   ]
  },
  {
   "cell_type": "code",
   "execution_count": null,
   "metadata": {},
   "outputs": [],
   "source": [
    "metrics = port.getMetrics(\n",
    "    'Factor',\n",
    "    filters={'Level_0': ['Alt', 'Equity'], 'Level_1': ['Crypto', 'Gold', 'US']},\n",
    "    portfolio_allocation=True\n",
    ")\n",
    "write_table(metrics, column_formats)"
   ]
  },
  {
   "cell_type": "code",
   "execution_count": null,
   "metadata": {},
   "outputs": [],
   "source": [
    "# Reduce Alt-Crypto, Alt-Gold, and Equity-US by 5 percentage points\n",
    "results = port.adjust_factor_allocations(\n",
    "    source_filter={'Level_0': ['Alt', 'Equity'], 'Level_1': ['Crypto', 'Gold', 'US']},\n",
    "    dest_filter={'Level_0': ['Fixed Income']},\n",
    "    transfer=0.05,  # 5 percentage points\n",
    "    verbose=True\n",
    ")\n",
    "write_table(results, column_formats)\n",
    "\n",
    "total_orig_alloc = results['Original Allocation'].sum()\n",
    "total_new_alloc = results['New Allocation'].sum()\n",
    "print(f\"Total original allocation: {total_orig_alloc:,.2%}\")\n",
    "print(f\"Total new allocation: {total_new_alloc:,.2%}\")\n"
   ]
  },
  {
   "cell_type": "code",
   "execution_count": null,
   "metadata": {},
   "outputs": [],
   "source": [
    "results = port.adjust_factor_allocations(\n",
    "    source_filter={'Level_0': ['Alt', 'Fixed Income'], 'Level_1': ['REITs', 'Cash']},\n",
    "    dest_filter={'Level_0': ['Fixed Income'], 'Level_1': ['Bonds']},\n",
    "    transfer=0.05,  # 5 percentage points\n",
    "    verbose=True\n",
    ")\n",
    "write_table(results, column_formats)\n",
    "\n",
    "total_orig_alloc = results['Original Allocation'].sum()\n",
    "total_new_alloc = results['New Allocation'].sum()\n",
    "print(f\"Total original allocation: {total_orig_alloc:,.2%}\")\n",
    "print(f\"Total new allocation: {total_new_alloc:,.2%}\")"
   ]
  },
  {
   "cell_type": "code",
   "execution_count": null,
   "metadata": {},
   "outputs": [],
   "source": [
    "\n",
    "# Rebalance the portfolio\n",
    "target_allocations = results['New Allocation']\n",
    "ticker_results, factor_results = port.rebalance(target_allocations,\n",
    "                                                turnover_penalty=0.25,\n",
    "                                                min_alloc=0.05,\n",
    "                                                verbose=False)\n"
   ]
  },
  {
   "cell_type": "code",
   "execution_count": null,
   "metadata": {},
   "outputs": [],
   "source": [
    "\n",
    "write_table(ticker_results, column_formats)\n",
    "total_value = ticker_results['New Value'].sum()\n",
    "total_alloc = ticker_results['New Allocation'].sum()\n",
    "print(f\"Total value: {total_value:,.2f}\")\n",
    "print(f\"Total allocation: {total_alloc:,.2%}\")\n",
    "\n",
    "print()\n",
    "\n",
    "write_table(factor_results, column_formats)\n",
    "total_value = factor_results['New Value'].sum()\n",
    "total_alloc = factor_results['New Allocation'].sum()\n",
    "print(f\"Total value: {total_value:,.2f}\")\n",
    "print(f\"Total allocation: {total_alloc:,.2%}\")"
   ]
  }
 ],
 "metadata": {
  "kernelspec": {
   "display_name": "Portfolio Optimization",
   "language": "python",
   "name": "portopt"
  },
  "language_info": {
   "codemirror_mode": {
    "name": "ipython",
    "version": 3
   },
   "file_extension": ".py",
   "mimetype": "text/x-python",
   "name": "python",
   "nbconvert_exporter": "python",
   "pygments_lexer": "ipython3",
   "version": "3.12.7"
  }
 },
 "nbformat": 4,
 "nbformat_minor": 2
}
