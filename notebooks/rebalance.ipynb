{
 "cells": [
  {
   "cell_type": "code",
   "execution_count": 11,
   "metadata": {},
   "outputs": [],
   "source": [
    "# import functions from utils and porteval\n",
    "import sys\n",
    "import os\n",
    "import pandas as pd\n",
    "\n",
    "from portopt.portfolio import Portfolio\n",
    "\n",
    "from portopt.config import load_config\n",
    "from portopt.utils import write_table"
   ]
  },
  {
   "cell_type": "code",
   "execution_count": null,
   "metadata": {},
   "outputs": [],
   "source": [
    "# required file paths\n",
    "portfolio_dir = \"../data/portfolio\"\n",
    "config_file = os.path.join(portfolio_dir, \"config.yml\")\n",
    "holdings_files = os.path.join(portfolio_dir, \"holdings\")\n",
    "# just load one account for now\n",
    "holdings_files = os.path.join(holdings_files, \"fidelity-ira-jmm.csv\")\n",
    "factor_weights_file = os.path.join(portfolio_dir, \"asset_class_weights_matrix.csv\")\n",
    "\n",
    "print(\"portfolio_dir:\", portfolio_dir)\n",
    "print(\"config_file:\", config_file)\n",
    "print(\"factor_weights_file:\", factor_weights_file)\n",
    "print(\"holdings_files:\", holdings_files)"
   ]
  },
  {
   "cell_type": "code",
   "execution_count": null,
   "metadata": {},
   "outputs": [],
   "source": [
    "# load config\n",
    "config = load_config(config_file)\n",
    "import pprint\n",
    "pprint.pprint(config)"
   ]
  },
  {
   "cell_type": "code",
   "execution_count": null,
   "metadata": {},
   "outputs": [],
   "source": [
    "# define column formats for write_table function\n",
    "column_formats = {\n",
    "    'Ticker': {'width': 14},\n",
    "    'Level_0': {'width': 14},\n",
    "    'Level_1': {'width': 14},\n",
    "    'Level_2': {'width': 14},\n",
    "    'Level_3': {'width': 14},\n",
    "    'Level_4': {'width': 14},\n",
    "    'Level_5': {'width': 14},\n",
    "    'Level_6': {'width': 14},\n",
    "    'Factor': {'width': 24},\n",
    "    'Weight': {'width': 14, 'decimal': 3, 'type':'%'},\n",
    "    'Account': {'width': 25, 'align': '<'},\n",
    "    'Name': {'width': 30, 'align': '<'},\n",
    "    'Short Name': {'width': 20, 'align': '<'},\n",
    "    'Institution': {'width': 14},\n",
    "    'Type': {'width': 14},\n",
    "    'Category': {'width': 14},\n",
    "    'Family': {'width': 14},\n",
    "    'Owner': {'width': 14},\n",
    "    'Quantity': {'width': 10, 'decimal': 3},\n",
    "    'Original Ticker': {'width': 14},\n",
    "    'Original Quantity': {'width': 10, 'decimal': 3},\n",
    "    'Original Value': {'width': 16, 'decimal': 2, 'prefix': '$'},\n",
    "    'Price': {'width': 16, 'decimal': 2, 'prefix': '$'},\n",
    "    'Total Value': {'width': 16, 'decimal': 2, 'prefix': '$'},\n",
    "    'New Value': {'width': 16, 'decimal': 2, 'prefix': '$'},\n",
    "    'Value Diff': {'width': 16, 'decimal': 2, 'prefix': '$'},\n",
    "    'Allocation': {'width': 16, 'decimal': 2, 'type':'%'},\n",
    "    'Original Allocation': {'width': 16, 'decimal': 2, 'type':'%'},\n",
    "    'New Allocation': {'width': 16, 'decimal': 2, 'type':'%'},\n",
    "    'Target Allocation': {'width': 16, 'decimal': 2, 'type':'%'},\n",
    "    'Allocation Diff': {'width': 16, 'decimal': 2, 'type':'%'}\n",
    "}\n",
    "column_formats"
   ]
  },
  {
   "cell_type": "code",
   "execution_count": null,
   "metadata": {},
   "outputs": [],
   "source": [
    "# create portfolio object\n",
    "port = Portfolio(config, factor_weights_file, holdings_files)\n",
    "port"
   ]
  },
  {
   "cell_type": "code",
   "execution_count": null,
   "metadata": {},
   "outputs": [],
   "source": [
    "# create target allocation that is slightly different from current allocation\n",
    "current_allocations = port.getMetrics('Factor')\n",
    "write_table(current_allocations, column_formats)\n",
    "# Get current factor allocations\n",
    "target_allocations = current_allocations['Allocation'].copy()\n",
    "\n",
    "# Adjust allocations\n",
    "target_allocations['Alt: Crypto'] -= 0.10  # Reduce Crypto by 10%\n",
    "target_allocations['Alt: Gold'] += 0.05    # Increase Gold by 5%\n",
    "target_allocations['Bonds: US'] += 0.05  # Increase Bonds: US by 5%\n",
    "\n",
    "write_table(target_allocations, column_formats)\n"
   ]
  },
  {
   "cell_type": "code",
   "execution_count": null,
   "metadata": {},
   "outputs": [],
   "source": [
    "# create simple equally weighted target portfolio\n",
    "# Get the factors from the portfolio\n",
    "# factors = port.getFactors()\n",
    "\n",
    "# # Create equally weighted target allocations\n",
    "# # - Get unique factors from the index\n",
    "# # - Create a Series with equal weights\n",
    "# target_allocations = pd.Series(\n",
    "#     index=factors['Factor'],\n",
    "#     data=1.0/len(factors),\n",
    "#     name='Target Allocation'\n",
    "# )\n",
    "\n",
    "# write_table(target_allocations, column_formats)\n"
   ]
  },
  {
   "cell_type": "code",
   "execution_count": null,
   "metadata": {},
   "outputs": [],
   "source": [
    "\n",
    "# Rebalance the portfolio\n",
    "ticker_results, factor_results = port.rebalance(target_allocations,\n",
    "                                                verbose=True)\n"
   ]
  },
  {
   "cell_type": "code",
   "execution_count": null,
   "metadata": {},
   "outputs": [],
   "source": [
    "\n",
    "write_table(ticker_results, column_formats)\n",
    "write_table(factor_results, column_formats)"
   ]
  }
 ],
 "metadata": {
  "kernelspec": {
   "display_name": "Portfolio Optimization",
   "language": "python",
   "name": "portopt"
  },
  "language_info": {
   "codemirror_mode": {
    "name": "ipython",
    "version": 3
   },
   "file_extension": ".py",
   "mimetype": "text/x-python",
   "name": "python",
   "nbconvert_exporter": "python",
   "pygments_lexer": "ipython3",
   "version": "3.12.7"
  }
 },
 "nbformat": 4,
 "nbformat_minor": 2
}
