{
 "cells": [
  {
   "cell_type": "code",
   "execution_count": 1,
   "metadata": {},
   "outputs": [],
   "source": [
    "import sys\n",
    "import os\n",
    "\n",
    "from portopt.portfolio import Portfolio\n",
    "from portopt.config import load_config\n",
    "from portopt.market_data import get_tickers_data\n",
    "from portopt.porteval import simulate_model_portfolio\n",
    "from portopt.utils import plot_time_series"
   ]
  },
  {
   "cell_type": "code",
   "execution_count": null,
   "metadata": {},
   "outputs": [],
   "source": [
    "# required file paths\n",
    "portfolio_dir = \"../data/portfolio\"\n",
    "config_file = os.path.join(portfolio_dir, \"config.yml\")\n",
    "holdings_files = os.path.join(portfolio_dir, \"holdings\")\n",
    "factor_weights_file = os.path.join(portfolio_dir, \"asset_class_weights_matrix.csv\")\n",
    "\n",
    "print(\"portfolio_dir:\", portfolio_dir)\n",
    "print(\"config_file:\", config_file)\n",
    "print(\"factor_weights_file:\", factor_weights_file)\n",
    "print(\"holdings_files:\", holdings_files)"
   ]
  },
  {
   "cell_type": "code",
   "execution_count": null,
   "metadata": {},
   "outputs": [],
   "source": [
    "# load config\n",
    "config = load_config(config_file)\n",
    "import pprint\n",
    "pprint.pprint(config)"
   ]
  },
  {
   "cell_type": "code",
   "execution_count": null,
   "metadata": {},
   "outputs": [],
   "source": [
    "# create poprtfolio object\n",
    "portfolio = Portfolio(config, factor_weights_file, holdings_files)\n",
    "portfolio"
   ]
  },
  {
   "cell_type": "code",
   "execution_count": null,
   "metadata": {},
   "outputs": [],
   "source": [
    "# convert portfolio to model portfolio where a model portfolio\n",
    "# is a dictionary mapping tickers to weights\n",
    "model_portfolio = portfolio.getMetrics('Ticker')['Allocation'].to_dict()\n",
    "model_portfolio"
   ]
  },
  {
   "cell_type": "code",
   "execution_count": null,
   "metadata": {},
   "outputs": [],
   "source": [
    "# filter out options and money market funds from model portfolio\n",
    "# (can't get historical data for these???)\n",
    "from portopt.market_data import is_option_ticker\n",
    "from portopt.market_data import is_money_market_ticker\n",
    "model_portfolio = {k: v for k, v in model_portfolio.items() if not is_option_ticker(k) and not is_money_market_ticker(k)}\n",
    "\n",
    "# remove crypto assets from model portfolio\n",
    "# (not enough historical data for crypto asset classes)\n",
    "model_portfolio = {k: v for k, v in model_portfolio.items() if k not in [\"FBTC\", \"FETH\"]}\n",
    "\n",
    "model_portfolio\n"
   ]
  },
  {
   "cell_type": "code",
   "execution_count": null,
   "metadata": {},
   "outputs": [],
   "source": [
    "# start date for backtest\n",
    "start_date = \"2000-01-01\"\n",
    "\n",
    "# get historical price data for model portfolio\n",
    "# (incorporate this into the portfolio object's getPrices() method?)\n",
    "historical_prices, stats = get_tickers_data(list(model_portfolio.keys()),\n",
    "                              start_date=start_date,\n",
    "                              end_date=None,\n",
    "                              price_type=\"Adj Close\",\n",
    "                              verbose=True)\n",
    "historical_prices"
   ]
  },
  {
   "cell_type": "code",
   "execution_count": null,
   "metadata": {},
   "outputs": [],
   "source": [
    "# simulate model portfolio\n",
    "simulated_portfolio = simulate_model_portfolio(model_portfolio,\n",
    "                         start_date=start_date,\n",
    "                         end_date=None,\n",
    "                         rebalance_freq=\"quarterly\",\n",
    "                         price_data=historical_prices,\n",
    "                         engine=\"bt\",\n",
    "                         verbose=True)\n",
    "\n",
    "plot_time_series(simulated_portfolio.prices)\n",
    "print(simulated_portfolio.prices.shape)"
   ]
  }
 ],
 "metadata": {
  "kernelspec": {
   "display_name": "Portfolio Optimization",
   "language": "python",
   "name": "portopt"
  },
  "language_info": {
   "codemirror_mode": {
    "name": "ipython",
    "version": 3
   },
   "file_extension": ".py",
   "mimetype": "text/x-python",
   "name": "python",
   "nbconvert_exporter": "python",
   "pygments_lexer": "ipython3",
   "version": "3.12.7"
  }
 },
 "nbformat": 4,
 "nbformat_minor": 2
}
