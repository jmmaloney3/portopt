{
 "cells": [
  {
   "cell_type": "markdown",
   "metadata": {},
   "source": [
    "Test the fama_french module"
   ]
  },
  {
   "cell_type": "code",
   "execution_count": 1,
   "metadata": {},
   "outputs": [],
   "source": [
    "# import functions from utils and porteval\n",
    "import sys\n",
    "import os\n",
    "\n",
    "from portopt.fama_french import load_ff_3factor_daily\n",
    "from portopt.fama_french import asset_class_proxy_returns\n",
    "from portopt.fama_french import asset_class_proxy_prices\n",
    "from portopt.fama_french import multi_asset_class_proxy_returns\n",
    "from portopt.fama_french import multi_asset_class_proxy_prices\n",
    "from portopt.market_data import get_tickers_data\n",
    "from portopt.market_data import get_portfolio_data\n",
    "from portopt.utils import standardize_data\n",
    "from portopt.utils import plot_time_series\n",
    "from portopt.porteval import simulate_model_portfolio"
   ]
  },
  {
   "cell_type": "code",
   "execution_count": null,
   "metadata": {},
   "outputs": [],
   "source": [
    "# load the Fama-French 3 Factor data\n",
    "ff_3factor_data = load_ff_3factor_daily()\n",
    "plot_time_series(ff_3factor_data)\n"
   ]
  },
  {
   "cell_type": "code",
   "execution_count": null,
   "metadata": {},
   "outputs": [],
   "source": [
    "# generate asset class proxy returns\n",
    "proxy_returns = asset_class_proxy_returns(ff_3factor_data, 1.0, 1.2, 0.8)\n",
    "plot_time_series(proxy_returns)"
   ]
  },
  {
   "cell_type": "code",
   "execution_count": null,
   "metadata": {},
   "outputs": [],
   "source": [
    "proxy_prices = asset_class_proxy_prices(ff_3factor_data, 1.0, 1.2, 0.8)\n",
    "plot_time_series(proxy_prices)"
   ]
  },
  {
   "cell_type": "code",
   "execution_count": null,
   "metadata": {},
   "outputs": [],
   "source": [
    "# multiple asset class proxy returns\n",
    "coeff_dict = {\n",
    "    \"Large Cap Value\": {\"beta_m\": 1.0, \"beta_s\": -0.2, \"beta_v\": 0.5},\n",
    "    \"Large Cap Core\": {\"beta_m\": 1.0, \"beta_s\": 0.0, \"beta_v\": 0.0},\n",
    "    \"Large Cap Growth\": {\"beta_m\": 1.0, \"beta_s\": -0.2, \"beta_v\": -0.5},\n",
    "    \"Mid Cap Value\": {\"beta_m\": 1.1, \"beta_s\": 0.4, \"beta_v\": 0.5},\n",
    "    \"Mid Cap Core\": {\"beta_m\": 1.05, \"beta_s\": 0.3, \"beta_v\": 0.2},\n",
    "    \"Mid Cap Growth\": {\"beta_m\": 1.0, \"beta_s\": 0.35, \"beta_v\": -0.3},\n",
    "    \"Small Cap Value\": {\"beta_m\": 1.2, \"beta_s\": 0.8, \"beta_v\": 0.7},\n",
    "    \"Small Cap Core\": {\"beta_m\": 1.15, \"beta_s\": 0.7, \"beta_v\": 0.2},\n",
    "    \"Small Cap Growth\": {\"beta_m\": 1.1, \"beta_s\": 0.85, \"beta_v\": -0.4},\n",
    "}\n",
    "multi_asset_proxy_returns = multi_asset_class_proxy_returns(ff_3factor_data, coeff_dict)\n",
    "plot_time_series(multi_asset_proxy_returns)"
   ]
  },
  {
   "cell_type": "code",
   "execution_count": null,
   "metadata": {},
   "outputs": [],
   "source": [
    "# multiple asset class proxy prices\n",
    "multi_asset_proxy_prices = multi_asset_class_proxy_prices(ff_3factor_data, coeff_dict)\n",
    "plot_time_series(multi_asset_proxy_prices)\n"
   ]
  },
  {
   "cell_type": "code",
   "execution_count": null,
   "metadata": {},
   "outputs": [],
   "source": [
    "moderate_portfolio = {\n",
    "    \"Large Cap Value\": 0.10,\n",
    "    \"Large Cap Core\": 0.19,\n",
    "    \"Large Cap Growth\": 0.13,\n",
    "    \"Mid Cap Value\": (0.14/3),\n",
    "    \"Mid Cap Core\": (0.14/3),\n",
    "    \"Mid Cap Growth\": (0.14/3),\n",
    "    \"Small Cap Value\": (0.07/3),\n",
    "    \"Small Cap Core\": (0.07/3),\n",
    "    \"Small Cap Growth\": (0.07/3),\n",
    "}\n",
    "moderate_portfolio"
   ]
  },
  {
   "cell_type": "code",
   "execution_count": null,
   "metadata": {},
   "outputs": [],
   "source": [
    "aggressive_portfolio = {\n",
    "    \"Large Cap Value\": 0.11,\n",
    "    \"Large Cap Core\": 0.22,\n",
    "    \"Large Cap Growth\": 0.13,\n",
    "    \"Mid Cap Value\": (0.18/3),\n",
    "    \"Mid Cap Core\": (0.18/3),\n",
    "    \"Mid Cap Growth\": (0.18/3),\n",
    "    \"Small Cap Value\": (0.10/3),\n",
    "    \"Small Cap Core\": (0.10/3),\n",
    "    \"Small Cap Growth\": (0.10/3),\n",
    "}\n",
    "aggressive_portfolio"
   ]
  },
  {
   "cell_type": "code",
   "execution_count": null,
   "metadata": {},
   "outputs": [],
   "source": [
    "vanguard_etfs_moderate = {\n",
    "    \"VTV\": 0.10,     # large cap value\n",
    "    \"VV\": 0.19,      # large cap core/blend\n",
    "    \"VUG\": 0.13,     # large cap growth\n",
    "    \"VOE\": (0.14/3), # mid-cap value\n",
    "    \"VO\": (0.14/3),  # mid-cap core/blend\n",
    "    \"VOT\": (0.14/3), # mid-cap growth\n",
    "    \"VBR\": (0.07/3), # small-cap value\n",
    "    \"VB\": (0.07/3),  # small-cap core/blend\n",
    "    \"VBK\": (0.07/3), # small-cap growth\n",
    "}\n",
    "vanguard_etfs_moderate"
   ]
  },
  {
   "cell_type": "code",
   "execution_count": null,
   "metadata": {},
   "outputs": [],
   "source": [
    "vanguard_etfs_aggressive = {\n",
    "    \"VTV\": 0.11,     # large cap value\n",
    "    \"VV\": 0.22,      # large cap core/blend\n",
    "    \"VUG\": 0.13,     # large cap growth\n",
    "    \"VOE\": (0.18/3), # mid-cap value\n",
    "    \"VO\": (0.18/3),  # mid-cap core/blend\n",
    "    \"VOT\": (0.18/3), # mid-cap growth\n",
    "    \"VBR\": (0.10/3), # small-cap value\n",
    "    \"VB\": (0.10/3),  # small-cap core/blend\n",
    "    \"VBK\": (0.10/3), # small-cap growth\n",
    "}\n",
    "vanguard_etfs_aggressive"
   ]
  },
  {
   "cell_type": "code",
   "execution_count": null,
   "metadata": {},
   "outputs": [],
   "source": [
    "vanguard_etfs = {\n",
    "    \"Vanguard Moderate\": vanguard_etfs_moderate,\n",
    "    \"Vanguard Aggressive\": vanguard_etfs_aggressive,\n",
    "}\n",
    "vanguard_etfs"
   ]
  },
  {
   "cell_type": "code",
   "execution_count": null,
   "metadata": {},
   "outputs": [],
   "source": [
    "# get prices for vanguard etfs\n",
    "vanguard_etf_prices, price_data_status = get_portfolio_data(vanguard_etfs, start_date=multi_asset_proxy_prices.index.min(), end_date=None)\n",
    "vanguard_etf_prices\n"
   ]
  },
  {
   "cell_type": "code",
   "execution_count": null,
   "metadata": {},
   "outputs": [],
   "source": [
    "# combine vanguard etf prices with proxy prices\n",
    "combined_prices = vanguard_etf_prices.join(multi_asset_proxy_prices, how=\"inner\")\n",
    "combined_prices"
   ]
  },
  {
   "cell_type": "code",
   "execution_count": null,
   "metadata": {},
   "outputs": [],
   "source": [
    "#    \"VTV\"  # large cap value\n",
    "#    \"VV\":  # large cap core/blend\n",
    "#    \"VUG\": # large cap growth\n",
    "#    \"VOE\": # mid-cap value\n",
    "#    \"VO\":  # mid-cap core/blend\n",
    "#    \"VOT\": # mid-cap growth\n",
    "#    \"VBR\": # small-cap value\n",
    "#    \"VB\":  # small-cap core/blend\n",
    "#    \"VBK\": # small-cap growth\n",
    "\n",
    "# compare vanguard etf prices with proxy prices\n",
    "combined_prices_std = standardize_data(combined_prices)\n",
    "plot_time_series(combined_prices_std[[\"VTV\", \"Large Cap Value\"]])\n",
    "plot_time_series(combined_prices_std[[\"VV\", \"Large Cap Core\"]])\n",
    "plot_time_series(combined_prices_std[[\"VUG\", \"Large Cap Growth\"]])\n",
    "plot_time_series(combined_prices_std[[\"VOE\", \"Mid Cap Value\"]])\n",
    "plot_time_series(combined_prices_std[[\"VO\", \"Mid Cap Core\"]])\n",
    "plot_time_series(combined_prices_std[[\"VOT\", \"Mid Cap Growth\"]])\n",
    "plot_time_series(combined_prices_std[[\"VBR\", \"Small Cap Value\"]])\n",
    "plot_time_series(combined_prices_std[[\"VB\", \"Small Cap Core\"]])\n",
    "plot_time_series(combined_prices_std[[\"VBK\", \"Small Cap Growth\"]])\n"
   ]
  },
  {
   "cell_type": "code",
   "execution_count": null,
   "metadata": {},
   "outputs": [],
   "source": [
    "# Define the pairs of columns to compare\n",
    "pairs = [\n",
    "#    (\"VTV\", \"Large Cap Value\"),\n",
    "#    (\"VV\", \"Large Cap Core\"),\n",
    "    (\"VUG\", \"Large Cap Growth\"),\n",
    "#    (\"VOE\", \"Mid Cap Value\"),\n",
    "#    (\"VO\", \"Mid Cap Core\"),\n",
    "#    (\"VOT\", \"Mid Cap Growth\"),\n",
    "#    (\"VBR\", \"Small Cap Value\"),\n",
    "#    (\"VB\", \"Small Cap Core\"),\n",
    "#    (\"VBK\", \"Small Cap Growth\")\n",
    "]\n",
    "\n",
    "# Create a new DataFrame with the percentage differences\n",
    "import pandas as pd\n",
    "differences = pd.DataFrame()\n",
    "for etf, ff in pairs:\n",
    "    col_name = f\"{etf} vs {ff}\"\n",
    "    differences[col_name] = ((combined_prices_std[ff] - combined_prices_std[etf]) / combined_prices_std[etf]) * 100\n",
    "\n",
    "# View the results\n",
    "print(\"Percentage Difference columns:\", differences.columns)\n",
    "print(\"\\nFirst few rows:\")\n",
    "print(differences.head())\n",
    "\n",
    "# Plot the differences\n",
    "plot_time_series(differences, title=\"% Difference: Fama-French vs ETF Prices (relative to ETF)\")"
   ]
  },
  {
   "cell_type": "code",
   "execution_count": null,
   "metadata": {},
   "outputs": [],
   "source": [
    "portfolios ={\n",
    "    \"Moderate\": moderate_portfolio,\n",
    "    \"Aggressive\": aggressive_portfolio,\n",
    "    \"Vanguard Moderate\": vanguard_etfs_moderate,\n",
    "    \"Vanguard Aggressive\": vanguard_etfs_aggressive,\n",
    "}\n",
    "portfolios\n"
   ]
  },
  {
   "cell_type": "code",
   "execution_count": null,
   "metadata": {},
   "outputs": [],
   "source": [
    "backtest_results = simulate_model_portfolio(portfolios,\n",
    "                         start_date=multi_asset_proxy_prices.index.min(),\n",
    "                         end_date=None,\n",
    "                         rebalance_freq=\"quarterly\",\n",
    "                         price_data=combined_prices_std,\n",
    "                         #engine=\"bt\",\n",
    "                         verbose=False)\n",
    "backtest_results.display()\n",
    "plot_time_series(backtest_results.prices)"
   ]
  }
 ],
 "metadata": {
  "kernelspec": {
   "display_name": "Portfolio Optimization",
   "language": "python",
   "name": "portopt"
  },
  "language_info": {
   "codemirror_mode": {
    "name": "ipython",
    "version": 3
   },
   "file_extension": ".py",
   "mimetype": "text/x-python",
   "name": "python",
   "nbconvert_exporter": "python",
   "pygments_lexer": "ipython3",
   "version": "3.12.7"
  }
 },
 "nbformat": 4,
 "nbformat_minor": 2
}
