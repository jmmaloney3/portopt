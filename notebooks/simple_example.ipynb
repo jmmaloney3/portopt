{
 "cells": [
  {
   "cell_type": "code",
   "execution_count": 1,
   "id": "ecb8bc7c-2b79-48c4-a284-500198f06946",
   "metadata": {},
   "outputs": [],
   "source": [
    "# import required libraries\n",
    "import cvxpy as cp\n",
    "import numpy as np"
   ]
  },
  {
   "cell_type": "code",
   "execution_count": 2,
   "id": "e723034b-2fce-4e0c-9306-f7d7221d3630",
   "metadata": {},
   "outputs": [],
   "source": [
    "# Example data\n",
    "exposure_matrix = np.array([\n",
    "    [0.7, 0.2, 0.1],  # Fund A\n",
    "    [0.3, 0.5, 0.2],  # Fund B\n",
    "    [0.2, 0.3, 0.5]   # Fund C\n",
    "])  # Rows: Funds, Columns: Asset Classes"
   ]
  },
  {
   "cell_type": "code",
   "execution_count": 3,
   "id": "aed4e628-690e-4693-9581-3b841b0335af",
   "metadata": {},
   "outputs": [],
   "source": [
    "target_allocations = np.array([0.5, 0.3, 0.2])  # Target asset class percentages\n",
    "num_funds = exposure_matrix.shape[0]            # Number of funds"
   ]
  },
  {
   "cell_type": "code",
   "execution_count": 4,
   "id": "aab2e32a-fa1d-43df-87f9-87dc43554693",
   "metadata": {},
   "outputs": [],
   "source": [
    "# Allocation variables for each fund\n",
    "allocations = cp.Variable(num_funds)"
   ]
  },
  {
   "cell_type": "code",
   "execution_count": 6,
   "id": "3153760a-8fb4-440c-a36d-4d7c9103736e",
   "metadata": {},
   "outputs": [],
   "source": [
    "# Achieved allocation: Exposure matrix multiplied by fund allocations\n",
    "achieved_allocations = exposure_matrix @ allocations"
   ]
  },
  {
   "cell_type": "code",
   "execution_count": 8,
   "id": "1b88f79c-a4f2-4540-9e90-692525c2791c",
   "metadata": {},
   "outputs": [],
   "source": [
    "# Minimize the sum of squared errors between achieved and target allocations\n",
    "objective = cp.Minimize(cp.sum_squares(achieved_allocations - target_allocations))"
   ]
  },
  {
   "cell_type": "code",
   "execution_count": 9,
   "id": "bb751ba4-23a9-4aeb-9161-c0a714bab569",
   "metadata": {},
   "outputs": [],
   "source": [
    "# Define constraints\n",
    "constraints = [\n",
    "    cp.sum(allocations) == 1,   # Allocations sum to 1\n",
    "    allocations >= 0            # No negative allocations\n",
    "]"
   ]
  },
  {
   "cell_type": "code",
   "execution_count": 11,
   "id": "aac89f83-3063-4895-b22d-64c1406c37ce",
   "metadata": {},
   "outputs": [
    {
     "name": "stdout",
     "output_type": "stream",
     "text": [
      "Optimal fund allocations: [0.67064439 0.21002387 0.11933174]\n"
     ]
    }
   ],
   "source": [
    "# Define the problem\n",
    "problem = cp.Problem(objective, constraints)\n",
    "\n",
    "# Solve the problem\n",
    "problem.solve()\n",
    "\n",
    "# Display the results\n",
    "print(\"Optimal fund allocations:\", allocations.value)"
   ]
  },
  {
   "cell_type": "code",
   "execution_count": null,
   "id": "e6d03b0a-26a0-4434-ad46-1e0469c76e73",
   "metadata": {},
   "outputs": [],
   "source": []
  }
 ],
 "metadata": {
  "kernelspec": {
   "display_name": "Portfolio Optimization",
   "language": "python",
   "name": "portopt"
  },
  "language_info": {
   "codemirror_mode": {
    "name": "ipython",
    "version": 3
   },
   "file_extension": ".py",
   "mimetype": "text/x-python",
   "name": "python",
   "nbconvert_exporter": "python",
   "pygments_lexer": "ipython3",
   "version": "3.13.0"
  }
 },
 "nbformat": 4,
 "nbformat_minor": 5
}
