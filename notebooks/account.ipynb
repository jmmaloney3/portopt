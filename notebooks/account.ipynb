{
 "cells": [
  {
   "cell_type": "code",
   "execution_count": 9,
   "metadata": {},
   "outputs": [],
   "source": [
    "# import functions\n",
    "import sys\n",
    "import os\n",
    "\n",
    "from portopt.utils import write_table\n",
    "from portopt.config import load_config\n",
    "from portopt.account import load_account_dimension"
   ]
  },
  {
   "cell_type": "code",
   "execution_count": null,
   "metadata": {},
   "outputs": [],
   "source": [
    "# load proxy fund mappings\n",
    "portfolio_dir = \"../data/portfolio\"\n",
    "config_file = os.path.join(portfolio_dir, \"config.yml\")\n",
    "config = load_config(config_file)\n",
    "import pprint\n",
    "#pprint.pprint(config)\n",
    "pprint.pprint(config['accounts'])"
   ]
  },
  {
   "cell_type": "code",
   "execution_count": null,
   "metadata": {},
   "outputs": [],
   "source": [
    "column_formats = {\n",
    "    'Name': {'width': 20, 'align': '<'},\n",
    "    'Institution': {'width': 20, 'align': '<'},\n",
    "    'Type': {'width': 14},\n",
    "    'Owner': {'width': 14}\n",
    "}\n",
    "column_formats"
   ]
  },
  {
   "cell_type": "code",
   "execution_count": null,
   "metadata": {},
   "outputs": [],
   "source": [
    "# load account dimension\n",
    "account_dim = load_account_dimension(config)\n",
    "write_table(account_dim, column_formats)"
   ]
  }
 ],
 "metadata": {
  "kernelspec": {
   "display_name": "Portfolio Optimization",
   "language": "python",
   "name": "portopt"
  },
  "language_info": {
   "codemirror_mode": {
    "name": "ipython",
    "version": 3
   },
   "file_extension": ".py",
   "mimetype": "text/x-python",
   "name": "python",
   "nbconvert_exporter": "python",
   "pygments_lexer": "ipython3",
   "version": "3.12.7"
  }
 },
 "nbformat": 4,
 "nbformat_minor": 2
}
