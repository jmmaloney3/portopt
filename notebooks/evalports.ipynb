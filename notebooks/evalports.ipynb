{
 "cells": [
  {
   "cell_type": "markdown",
   "metadata": {},
   "source": [
    "The following cells are used to evaluate the performance of the portfolios.  The data is assumed to have been properly prepared (see `dataprep.ipynb`).\n",
    "\n"
   ]
  },
  {
   "cell_type": "code",
   "execution_count": 1,
   "metadata": {},
   "outputs": [],
   "source": [
    "# import functions from utils and porteval\n",
    "import sys\n",
    "import os\n",
    "\n",
    "# Get absolute path to src directory\n",
    "src_path = os.path.abspath(os.path.join(os.path.dirname('__file__'), '..', 'src'))\n",
    "\n",
    "# Only add to path if not already there\n",
    "if src_path not in sys.path:\n",
    "    sys.path.append(src_path)\n",
    "\n",
    "from portopt.market_data import get_portfolio_tickers\n",
    "from portopt.market_data import get_portfolio_data\n",
    "from portopt.market_data import get_tickers_date_ranges\n",
    "from portopt.utils import plot_time_series\n",
    "from portopt.porteval import simulate_model_portfolio"
   ]
  },
  {
   "cell_type": "code",
   "execution_count": null,
   "metadata": {},
   "outputs": [],
   "source": [
    "# example portfolios\n",
    "aggressive = {\n",
    "    \"SHY\":  0.010, # short-term bonds\n",
    "    \"AGG\":  0.030, # intermediate-term bonds\n",
    "    \"TLT\":  0.000, # long-term bonds\n",
    "    \"HYG\":  0.010, # high yield bonds (or JNK?)\n",
    "    \"EFA\":  0.158, # developed ex-US\n",
    "    \"EEM\":  0.052, # emerging markets\n",
    "    \"VTV\":  0.110, # large-cap value\n",
    "    \"SPY\":  0.220, # large-cap core (S&P 500)\n",
    "    \"VUG\":  0.130, # large-cap growth\n",
    "    \"IJH\":  0.180, # mid-cap (S&P Mod Cap 400)\n",
    "    \"IWM\":  0.100, # small-cap (Russell 2000)\n",
    "}\n",
    "\n",
    "moderate = {\n",
    "    \"SHY\":  0.050, # short-term bonds\n",
    "    \"AGG\":  0.110, # intermediate-term bonds\n",
    "    \"TLT\":  0.000, # long-term bonds\n",
    "    \"HYG\":  0.040, # high yield bonds\n",
    "    \"EFA\":  0.128, # developed ex-US\n",
    "    \"EEM\":  0.042, # emerging markets\n",
    "    \"VTV\":  0.100, # large-cap value\n",
    "    \"SPY\":  0.190, # large-cap core (S&P 500)\n",
    "    \"VUG\":  0.130, # large-cap growth\n",
    "    \"IJH\":  0.140, # mid-cap (S&P Mod Cap 400)\n",
    "    \"IWM\":  0.070, # small-cap (Russell 2000)\n",
    "}\n",
    "\n",
    "vanguard_etfs = {\n",
    "    \"VTV\": 0.0, # large cap value\n",
    "    \"VV\": 0.61, # large cap core/blend\n",
    "    \"VUG\": 0.03, # large cap growth\n",
    "    \"VOE\": 0.03, # mid-cap value\n",
    "    \"VO\": 0.02, # mid-cap core/blend\n",
    "    \"VOT\": 0.0, # mid-cap growth\n",
    "    \"VBR\": 0.15, # small-cap value\n",
    "    \"VB\": 0.0, # small-cap core/blend\n",
    "    \"VBK\": 0.16, # small-cap growth\n",
    "}\n",
    "\n",
    "portfolios = {\n",
    "    \"Aggressive\": aggressive,\n",
    "    \"Moderate\": moderate,\n",
    "    \"Vanguard\": vanguard_etfs\n",
    "}\n",
    "\n",
    "portfolios"
   ]
  },
  {
   "cell_type": "code",
   "execution_count": null,
   "metadata": {},
   "outputs": [],
   "source": [
    "portfolio_tickers = get_portfolio_tickers(portfolios)\n",
    "portfolio_tickers"
   ]
  },
  {
   "cell_type": "code",
   "execution_count": null,
   "metadata": {},
   "outputs": [],
   "source": [
    "portfolio_info = get_tickers_date_ranges(portfolio_tickers)\n",
    "portfolio_info\n"
   ]
  },
  {
   "cell_type": "code",
   "execution_count": null,
   "metadata": {},
   "outputs": [],
   "source": [
    "# load stock prices\n",
    "historical_prices, status = get_portfolio_data(portfolios, verbose=True)\n",
    "historical_prices"
   ]
  },
  {
   "cell_type": "code",
   "execution_count": null,
   "metadata": {},
   "outputs": [],
   "source": [
    "#portfolio = portfolios['Example Portfolio 3']\n",
    "backtest_results1 = simulate_model_portfolio(portfolios,\n",
    "                         start_date=\"2010-06-29\",\n",
    "                         end_date=None,\n",
    "                         rebalance_freq=\"quarterly\",\n",
    "                         price_data=historical_prices,\n",
    "                         engine=\"bt\",\n",
    "                         verbose=False)\n",
    "backtest_results1.display()\n",
    "plot_time_series(backtest_results1.prices)\n"
   ]
  }
 ],
 "metadata": {
  "kernelspec": {
   "display_name": "Portfolio Optimization",
   "language": "python",
   "name": "portopt"
  },
  "language_info": {
   "codemirror_mode": {
    "name": "ipython",
    "version": 3
   },
   "file_extension": ".py",
   "mimetype": "text/x-python",
   "name": "python",
   "nbconvert_exporter": "python",
   "pygments_lexer": "ipython3",
   "version": "3.12.7"
  }
 },
 "nbformat": 4,
 "nbformat_minor": 2
}
