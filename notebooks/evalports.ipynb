{
 "cells": [
  {
   "cell_type": "markdown",
   "metadata": {},
   "source": [
    "The following cells are used to evaluate the performance of the portfolios.  The data is assumed to have been properly prepared (see `dataprep.ipynb`).\n",
    "\n"
   ]
  },
  {
   "cell_type": "code",
   "execution_count": null,
   "metadata": {},
   "outputs": [],
   "source": [
    "# import functions from utils and porteval\n",
    "import sys\n",
    "import os\n",
    "\n",
    "# Get absolute path to src directory\n",
    "src_path = os.path.abspath(os.path.join(os.path.dirname('__file__'), '..', 'src'))\n",
    "\n",
    "# Only add to path if not already there\n",
    "if src_path not in sys.path:\n",
    "    sys.path.append(src_path)\n",
    "\n",
    "from utils import get_portfolio_data\n",
    "from utils import test_stationarity\n",
    "from utils import standardize_data\n",
    "from utils import test_autocorrelation\n",
    "from utils import test_volatility_clustering\n",
    "from porteval import evaluate_portfolio\n",
    "from porteval import evaluate_portfolios\n",
    "\n",
    "# Print the path to make sure src is included\n",
    "print(sys.path)\n",
    "\n",
    "# Print available functions in utils\n",
    "print(get_portfolio_data.__doc__)\n",
    "print(test_stationarity.__doc__)\n",
    "print(standardize_data.__doc__)\n",
    "print(test_autocorrelation.__doc__)\n",
    "print(test_volatility_clustering.__doc__)\n",
    "print(evaluate_portfolio.__doc__)\n",
    "print(evaluate_portfolios.__doc__)"
   ]
  },
  {
   "cell_type": "code",
   "execution_count": null,
   "metadata": {},
   "outputs": [],
   "source": [
    "# define portfolios in format for porteval\n",
    "\n",
    "# provide tickers\n",
    "tickers = [\"MSFT\", \"AMZN\", \"KO\", \"MA\", \"COST\", \n",
    "           \"LUV\", \"XOM\", \"PFE\", \"JPM\", \"UNH\", \n",
    "           \"ACN\", \"DIS\", \"GILD\", \"F\", \"TSLA\"] \n",
    "\n",
    "portfolios = {\n",
    "    \"Example Portfolio 1\": {ticker: 1/len(tickers) for ticker in tickers},\n",
    "    \n",
    "    \"Example Portfolio 2\": {\n",
    "        \"MSFT\": 0.5,\n",
    "        \"AMZN\": 0.4,\n",
    "        \"COST\": 0.1,\n",
    "    },\n",
    "    \n",
    "    \"Example Portfolio 3\": {\n",
    "        \"JPM\": 0.2,\n",
    "        \"AMZN\": 0.1,\n",
    "        \"GILD\": 0.4,\n",
    "        \"F\": 0.3,\n",
    "    }\n",
    "}\n",
    "portfolios"
   ]
  },
  {
   "cell_type": "code",
   "execution_count": null,
   "metadata": {},
   "outputs": [],
   "source": [
    "# load stock prices\n",
    "df = get_portfolio_data(portfolios)\n",
    "df"
   ]
  },
  {
   "cell_type": "code",
   "execution_count": null,
   "metadata": {},
   "outputs": [],
   "source": [
    "# prepare price data for portfolio evaluation\n",
    "import numpy as np\n",
    "\n",
    "# 1. Apply log returns transformation to all columns\n",
    "df_log_returns = np.log(df).diff().dropna()\n",
    "df_log_returns"
   ]
  },
  {
   "cell_type": "code",
   "execution_count": null,
   "metadata": {},
   "outputs": [],
   "source": [
    "# 2. Standardize the data\n",
    "df_standardized = standardize_data(df_log_returns)\n",
    "df_standardized"
   ]
  },
  {
   "cell_type": "code",
   "execution_count": null,
   "metadata": {},
   "outputs": [],
   "source": [
    "# evaluate the portfolios\n",
    "results = evaluate_portfolios(portfolios,\n",
    "                             df_log_returns, df_standardized)\n",
    "results"
   ]
  }
 ],
 "metadata": {
  "kernelspec": {
   "display_name": "Portfolio Optimization",
   "language": "python",
   "name": "portopt"
  },
  "language_info": {
   "codemirror_mode": {
    "name": "ipython",
    "version": 3
   },
   "file_extension": ".py",
   "mimetype": "text/x-python",
   "name": "python",
   "nbconvert_exporter": "python",
   "pygments_lexer": "ipython3",
   "version": "3.12.7"
  }
 },
 "nbformat": 4,
 "nbformat_minor": 2
}
