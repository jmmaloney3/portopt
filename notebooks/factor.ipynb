{
 "cells": [
  {
   "cell_type": "code",
   "execution_count": 1,
   "metadata": {},
   "outputs": [],
   "source": [
    "# import functions from utils and porteval\n",
    "import sys\n",
    "import os\n",
    "\n",
    "# Get absolute path to src directory\n",
    "src_path = os.path.abspath(os.path.join(os.path.dirname('__file__'), '..', 'src'))\n",
    "\n",
    "# Only add to path if not already there\n",
    "if src_path not in sys.path:\n",
    "    sys.path.append(src_path)\n",
    "\n",
    "from factor import load_factor_dimension\n",
    "from factor import get_factors_by_level\n",
    "from factor import get_child_factors\n",
    "from factor import load_fund_factor_weights\n",
    "from factor import load_factor_weights\n",
    "from constants import Constants\n",
    "from utils import write_table\n",
    "from config import load_config\n"
   ]
  },
  {
   "cell_type": "code",
   "execution_count": null,
   "metadata": {},
   "outputs": [],
   "source": [
    "# load proxy fund mappings\n",
    "portfolio_dir = \"../data/portfolio\"\n",
    "config_file = os.path.join(portfolio_dir, \"config.yml\")\n",
    "config = load_config(config_file)\n",
    "import pprint\n",
    "#pprint.pprint(config)\n",
    "pprint.pprint(config['asset_class_hierarchy'])"
   ]
  },
  {
   "cell_type": "code",
   "execution_count": null,
   "metadata": {},
   "outputs": [],
   "source": [
    "column_formats = {\n",
    "    'Ticker': {'width': 14},\n",
    "    'Level_0': {'width': 14},\n",
    "    'Level_1': {'width': 14},\n",
    "    'Level_2': {'width': 14},\n",
    "    'Level_3': {'width': 14},\n",
    "    'Level_4': {'width': 14},\n",
    "    'Level_5': {'width': 14},\n",
    "    'Level_6': {'width': 14},\n",
    "    'Factor': {'width': 25},\n",
    "}\n",
    "column_formats"
   ]
  },
  {
   "cell_type": "code",
   "execution_count": null,
   "metadata": {},
   "outputs": [],
   "source": [
    "factor_dim = load_factor_dimension(config)\n",
    "write_table(factor_dim, column_formats)\n"
   ]
  },
  {
   "cell_type": "code",
   "execution_count": null,
   "metadata": {},
   "outputs": [],
   "source": [
    "factors = get_factors_by_level(factor_dim, 'Level_3')\n",
    "factors"
   ]
  },
  {
   "cell_type": "code",
   "execution_count": null,
   "metadata": {},
   "outputs": [],
   "source": [
    "child_factors = get_child_factors(factor_dim, 'Equity', 'Level_0')\n",
    "write_table(child_factors, column_formats)"
   ]
  },
  {
   "cell_type": "code",
   "execution_count": null,
   "metadata": {},
   "outputs": [],
   "source": [
    "weights_column_formats = {\n",
    "    'Ticker': {'width': 14},\n",
    "    'Factor': {'width': 25},\n",
    "    'Weight': {'width': 16, 'decimal': 3, 'type':'%'}\n",
    "}\n",
    "weights_columns = ['Cash','Bonds: Intl','Bonds: US','Intl Equity: Developed','Intl Equity: Emerging',\n",
    "                   'US Equity: Large Cap Value','US Equity: Large Cap Core','US Equity: Large Cap Growth',\n",
    "                   'US Equity: Mid Cap Value','US Equity: Mid Cap Core','US Equity: Mid Cap Growth',\n",
    "                   'US Equity: Small Cap Value','US Equity: Small Cap Core','US Equity: Small Cap Growth',\n",
    "                   'Alt: REITs','Alt: Hedged Equity','Alt: Short VIX',\n",
    "                   'Alt: Gold','Atl: Crypto',\n",
    "                   'Alt: Managed Futures','Atl: Long/Short','Alt: Thematic','Alt: Options',\n",
    "                   'Unclassified']\n",
    "\n",
    "for column in weights_columns:\n",
    "    weights_column_formats[column] = {'width': 16, 'decimal': 3, 'type':'%'}\n",
    "\n",
    "weights_column_formats"
   ]
  },
  {
   "cell_type": "code",
   "execution_count": null,
   "metadata": {},
   "outputs": [],
   "source": [
    "portfolio_dir = \"../data/portfolio\"\n",
    "\n",
    "file_path = os.path.join(portfolio_dir, \"asset_class_weights_matrix.csv\")\n",
    "\n",
    "asset_class_weights = load_fund_factor_weights(file_path)\n",
    "if 'Name' in asset_class_weights.columns:\n",
    "    asset_class_weights = asset_class_weights.drop(columns=['Name'])\n",
    "write_table(asset_class_weights, columns=weights_column_formats)"
   ]
  },
  {
   "cell_type": "code",
   "execution_count": null,
   "metadata": {},
   "outputs": [],
   "source": [
    "factor_weights = load_factor_weights(file_path, factor_dim)\n",
    "write_table(factor_weights, columns=weights_column_formats)"
   ]
  },
  {
   "cell_type": "code",
   "execution_count": null,
   "metadata": {},
   "outputs": [],
   "source": [
    "acwx_weights = factor_weights.loc['ACWX']\n",
    "write_table(acwx_weights, columns=weights_column_formats)\n"
   ]
  }
 ],
 "metadata": {
  "kernelspec": {
   "display_name": "Portfolio Optimization",
   "language": "python",
   "name": "portopt"
  },
  "language_info": {
   "codemirror_mode": {
    "name": "ipython",
    "version": 3
   },
   "file_extension": ".py",
   "mimetype": "text/x-python",
   "name": "python",
   "nbconvert_exporter": "python",
   "pygments_lexer": "ipython3",
   "version": "3.12.7"
  }
 },
 "nbformat": 4,
 "nbformat_minor": 2
}
