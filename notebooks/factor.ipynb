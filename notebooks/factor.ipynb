{
 "cells": [
  {
   "cell_type": "code",
   "execution_count": 18,
   "metadata": {},
   "outputs": [],
   "source": [
    "# import functions from utils and porteval\n",
    "import sys\n",
    "import os\n",
    "\n",
    "# Get absolute path to src directory\n",
    "src_path = os.path.abspath(os.path.join(os.path.dirname('__file__'), '..', 'src'))\n",
    "\n",
    "# Only add to path if not already there\n",
    "if src_path not in sys.path:\n",
    "    sys.path.append(src_path)\n",
    "\n",
    "from factor import load_factor_dimension\n",
    "from factor import get_factors_by_level\n",
    "from factor import get_child_factors\n",
    "from utils import write_table\n",
    "from portfolio import load_config\n"
   ]
  },
  {
   "cell_type": "code",
   "execution_count": null,
   "metadata": {},
   "outputs": [],
   "source": [
    "# load proxy fund mappings\n",
    "config = load_config()\n",
    "import pprint\n",
    "#pprint.pprint(config)\n",
    "pprint.pprint(config['asset_class_hierarchy'])"
   ]
  },
  {
   "cell_type": "code",
   "execution_count": null,
   "metadata": {},
   "outputs": [],
   "source": [
    "column_formats = {\n",
    "    'Ticker': {'width': 14},\n",
    "    'Level_0': {'width': 14},\n",
    "    'Level_1': {'width': 14},\n",
    "    'Level_2': {'width': 14},\n",
    "    'Level_3': {'width': 14},\n",
    "    'Level_4': {'width': 14},\n",
    "    'Level_5': {'width': 14},\n",
    "    'Level_6': {'width': 14},\n",
    "    'Factor': {'width': 25},\n",
    "}\n",
    "column_formats"
   ]
  },
  {
   "cell_type": "code",
   "execution_count": null,
   "metadata": {},
   "outputs": [],
   "source": [
    "factor_dim = load_factor_dimension(config)\n",
    "write_table(factor_dim, column_formats)\n"
   ]
  },
  {
   "cell_type": "code",
   "execution_count": null,
   "metadata": {},
   "outputs": [],
   "source": [
    "factors = get_factors_by_level(factor_dim, 'Level_3')\n",
    "factors"
   ]
  },
  {
   "cell_type": "code",
   "execution_count": null,
   "metadata": {},
   "outputs": [],
   "source": [
    "child_factors = get_child_factors(factor_dim, 'Equity', 'Level_0')\n",
    "child_factors\n"
   ]
  }
 ],
 "metadata": {
  "kernelspec": {
   "display_name": "Portfolio Optimization",
   "language": "python",
   "name": "portopt"
  },
  "language_info": {
   "codemirror_mode": {
    "name": "ipython",
    "version": 3
   },
   "file_extension": ".py",
   "mimetype": "text/x-python",
   "name": "python",
   "nbconvert_exporter": "python",
   "pygments_lexer": "ipython3",
   "version": "3.12.7"
  }
 },
 "nbformat": 4,
 "nbformat_minor": 2
}
